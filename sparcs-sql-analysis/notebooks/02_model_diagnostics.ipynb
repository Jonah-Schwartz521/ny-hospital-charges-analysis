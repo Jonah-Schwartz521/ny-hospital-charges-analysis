{
 "cells": [
  {
   "cell_type": "code",
   "execution_count": 160,
   "id": "d94f5781",
   "metadata": {},
   "outputs": [],
   "source": [
    "import pandas as pd \n",
    "residuals_df = pd.read_csv('../data/sample_residuals_10k.csv', index_col=0)\n",
    "model_input_df = pd.read_csv('../data/model_input.csv')\n"
   ]
  },
  {
   "cell_type": "code",
   "execution_count": 161,
   "id": "30246bf5",
   "metadata": {},
   "outputs": [
    {
     "name": "stdout",
     "output_type": "stream",
     "text": [
      "             actual     predicted         error     abs_error\n",
      "count  1.000000e+04  1.000000e+04  1.000000e+04  1.000000e+04\n",
      "mean   4.491069e+04  4.027263e+04  4.638068e+03  1.458109e+04\n",
      "std    7.631185e+04  5.558975e+04  4.185966e+04  3.951096e+04\n",
      "min    1.000000e+00  7.189717e+02 -5.254368e+05  1.769647e-01\n",
      "25%    1.232840e+04  1.291454e+04 -4.574534e+03  1.884594e+03\n",
      "50%    2.422062e+04  2.450847e+04 -1.346627e+02  5.237635e+03\n",
      "75%    4.898450e+04  4.596429e+04  6.207281e+03  1.347012e+04\n",
      "max    1.998305e+06  1.228735e+06  1.773507e+06  1.773507e+06\n",
      "<class 'pandas.core.frame.DataFrame'>\n",
      "Index: 10000 entries, 1985134 to 909011\n",
      "Data columns (total 4 columns):\n",
      " #   Column     Non-Null Count  Dtype  \n",
      "---  ------     --------------  -----  \n",
      " 0   actual     10000 non-null  float64\n",
      " 1   predicted  10000 non-null  float64\n",
      " 2   error      10000 non-null  float64\n",
      " 3   abs_error  10000 non-null  float64\n",
      "dtypes: float64(4)\n",
      "memory usage: 390.6 KB\n",
      "None\n"
     ]
    }
   ],
   "source": [
    "print(residuals_df.describe())\n",
    "print(residuals_df.info())"
   ]
  },
  {
   "cell_type": "markdown",
   "id": "a04169e7",
   "metadata": {},
   "source": [
    "#### **Merge on Index:**"
   ]
  },
  {
   "cell_type": "code",
   "execution_count": 162,
   "id": "2d00c2c0",
   "metadata": {},
   "outputs": [],
   "source": [
    "# Join residuals and feautres using index \n",
    "merged_df = model_input_df.loc[residuals_df.index].copy()\n",
    "\n",
    "# Add error columns back in \n",
    "merged_df['actual'] = residuals_df['actual']\n",
    "merged_df['predicted'] = residuals_df['predicted']\n",
    "merged_df['error'] = residuals_df['error'] \n",
    "merged_df['abs_error'] = residuals_df['abs_error']"
   ]
  },
  {
   "cell_type": "markdown",
   "id": "b5281547",
   "metadata": {},
   "source": [
    "## Explore Patterns That Caused Huge Errors"
   ]
  },
  {
   "cell_type": "markdown",
   "id": "0228f4fe",
   "metadata": {},
   "source": [
    "#### **Top 10 Highest-Error Cases**:"
   ]
  },
  {
   "cell_type": "code",
   "execution_count": 163,
   "id": "42a2990a",
   "metadata": {},
   "outputs": [
    {
     "data": {
      "text/html": [
       "<div>\n",
       "<style scoped>\n",
       "    .dataframe tbody tr th:only-of-type {\n",
       "        vertical-align: middle;\n",
       "    }\n",
       "\n",
       "    .dataframe tbody tr th {\n",
       "        vertical-align: top;\n",
       "    }\n",
       "\n",
       "    .dataframe thead th {\n",
       "        text-align: right;\n",
       "    }\n",
       "</style>\n",
       "<table border=\"1\" class=\"dataframe\">\n",
       "  <thead>\n",
       "    <tr style=\"text-align: right;\">\n",
       "      <th></th>\n",
       "      <th>gender_encoded</th>\n",
       "      <th>age_group_encoded</th>\n",
       "      <th>severity_encoded</th>\n",
       "      <th>admission_encoded</th>\n",
       "      <th>payment_type_encoded</th>\n",
       "      <th>diagnosis_encoded</th>\n",
       "      <th>procedure_encoded</th>\n",
       "      <th>county_encoded</th>\n",
       "      <th>los</th>\n",
       "      <th>total_charges</th>\n",
       "      <th>actual</th>\n",
       "      <th>predicted</th>\n",
       "      <th>error</th>\n",
       "      <th>abs_error</th>\n",
       "    </tr>\n",
       "  </thead>\n",
       "  <tbody>\n",
       "    <tr>\n",
       "      <th>703410</th>\n",
       "      <td>0</td>\n",
       "      <td>1</td>\n",
       "      <td>2</td>\n",
       "      <td>3</td>\n",
       "      <td>3</td>\n",
       "      <td>88</td>\n",
       "      <td>42</td>\n",
       "      <td>26</td>\n",
       "      <td>41</td>\n",
       "      <td>1977082.18</td>\n",
       "      <td>1977082.18</td>\n",
       "      <td>2.035756e+05</td>\n",
       "      <td>1.773507e+06</td>\n",
       "      <td>1.773507e+06</td>\n",
       "    </tr>\n",
       "    <tr>\n",
       "      <th>868656</th>\n",
       "      <td>0</td>\n",
       "      <td>4</td>\n",
       "      <td>3</td>\n",
       "      <td>3</td>\n",
       "      <td>0</td>\n",
       "      <td>112</td>\n",
       "      <td>81</td>\n",
       "      <td>55</td>\n",
       "      <td>30</td>\n",
       "      <td>1252397.19</td>\n",
       "      <td>1252397.19</td>\n",
       "      <td>1.429414e+05</td>\n",
       "      <td>1.109456e+06</td>\n",
       "      <td>1.109456e+06</td>\n",
       "    </tr>\n",
       "    <tr>\n",
       "      <th>1229955</th>\n",
       "      <td>1</td>\n",
       "      <td>3</td>\n",
       "      <td>4</td>\n",
       "      <td>3</td>\n",
       "      <td>2</td>\n",
       "      <td>138</td>\n",
       "      <td>213</td>\n",
       "      <td>41</td>\n",
       "      <td>118</td>\n",
       "      <td>1998305.15</td>\n",
       "      <td>1998305.15</td>\n",
       "      <td>1.228735e+06</td>\n",
       "      <td>7.695700e+05</td>\n",
       "      <td>7.695700e+05</td>\n",
       "    </tr>\n",
       "    <tr>\n",
       "      <th>111248</th>\n",
       "      <td>0</td>\n",
       "      <td>3</td>\n",
       "      <td>4</td>\n",
       "      <td>2</td>\n",
       "      <td>0</td>\n",
       "      <td>8</td>\n",
       "      <td>137</td>\n",
       "      <td>29</td>\n",
       "      <td>39</td>\n",
       "      <td>1062891.97</td>\n",
       "      <td>1062891.97</td>\n",
       "      <td>3.791441e+05</td>\n",
       "      <td>6.837479e+05</td>\n",
       "      <td>6.837479e+05</td>\n",
       "    </tr>\n",
       "    <tr>\n",
       "      <th>1656008</th>\n",
       "      <td>1</td>\n",
       "      <td>3</td>\n",
       "      <td>4</td>\n",
       "      <td>2</td>\n",
       "      <td>2</td>\n",
       "      <td>199</td>\n",
       "      <td>213</td>\n",
       "      <td>26</td>\n",
       "      <td>56</td>\n",
       "      <td>1168526.27</td>\n",
       "      <td>1168526.27</td>\n",
       "      <td>5.297268e+05</td>\n",
       "      <td>6.387995e+05</td>\n",
       "      <td>6.387995e+05</td>\n",
       "    </tr>\n",
       "    <tr>\n",
       "      <th>2205242</th>\n",
       "      <td>1</td>\n",
       "      <td>3</td>\n",
       "      <td>3</td>\n",
       "      <td>1</td>\n",
       "      <td>3</td>\n",
       "      <td>249</td>\n",
       "      <td>206</td>\n",
       "      <td>26</td>\n",
       "      <td>10</td>\n",
       "      <td>735079.95</td>\n",
       "      <td>735079.95</td>\n",
       "      <td>1.346995e+05</td>\n",
       "      <td>6.003805e+05</td>\n",
       "      <td>6.003805e+05</td>\n",
       "    </tr>\n",
       "    <tr>\n",
       "      <th>991111</th>\n",
       "      <td>1</td>\n",
       "      <td>0</td>\n",
       "      <td>4</td>\n",
       "      <td>3</td>\n",
       "      <td>1</td>\n",
       "      <td>132</td>\n",
       "      <td>213</td>\n",
       "      <td>22</td>\n",
       "      <td>58</td>\n",
       "      <td>969419.00</td>\n",
       "      <td>969419.00</td>\n",
       "      <td>4.372956e+05</td>\n",
       "      <td>5.321234e+05</td>\n",
       "      <td>5.321234e+05</td>\n",
       "    </tr>\n",
       "    <tr>\n",
       "      <th>1698680</th>\n",
       "      <td>0</td>\n",
       "      <td>0</td>\n",
       "      <td>4</td>\n",
       "      <td>1</td>\n",
       "      <td>1</td>\n",
       "      <td>202</td>\n",
       "      <td>66</td>\n",
       "      <td>55</td>\n",
       "      <td>54</td>\n",
       "      <td>217651.85</td>\n",
       "      <td>217651.85</td>\n",
       "      <td>7.430887e+05</td>\n",
       "      <td>-5.254368e+05</td>\n",
       "      <td>5.254368e+05</td>\n",
       "    </tr>\n",
       "    <tr>\n",
       "      <th>1639782</th>\n",
       "      <td>1</td>\n",
       "      <td>1</td>\n",
       "      <td>4</td>\n",
       "      <td>3</td>\n",
       "      <td>3</td>\n",
       "      <td>196</td>\n",
       "      <td>15</td>\n",
       "      <td>3</td>\n",
       "      <td>42</td>\n",
       "      <td>823033.36</td>\n",
       "      <td>823033.36</td>\n",
       "      <td>3.013916e+05</td>\n",
       "      <td>5.216418e+05</td>\n",
       "      <td>5.216418e+05</td>\n",
       "    </tr>\n",
       "    <tr>\n",
       "      <th>523969</th>\n",
       "      <td>1</td>\n",
       "      <td>2</td>\n",
       "      <td>4</td>\n",
       "      <td>3</td>\n",
       "      <td>2</td>\n",
       "      <td>67</td>\n",
       "      <td>179</td>\n",
       "      <td>3</td>\n",
       "      <td>39</td>\n",
       "      <td>709692.77</td>\n",
       "      <td>709692.77</td>\n",
       "      <td>1.987790e+05</td>\n",
       "      <td>5.109138e+05</td>\n",
       "      <td>5.109138e+05</td>\n",
       "    </tr>\n",
       "  </tbody>\n",
       "</table>\n",
       "</div>"
      ],
      "text/plain": [
       "         gender_encoded  age_group_encoded  severity_encoded  \\\n",
       "703410                0                  1                 2   \n",
       "868656                0                  4                 3   \n",
       "1229955               1                  3                 4   \n",
       "111248                0                  3                 4   \n",
       "1656008               1                  3                 4   \n",
       "2205242               1                  3                 3   \n",
       "991111                1                  0                 4   \n",
       "1698680               0                  0                 4   \n",
       "1639782               1                  1                 4   \n",
       "523969                1                  2                 4   \n",
       "\n",
       "         admission_encoded  payment_type_encoded  diagnosis_encoded  \\\n",
       "703410                   3                     3                 88   \n",
       "868656                   3                     0                112   \n",
       "1229955                  3                     2                138   \n",
       "111248                   2                     0                  8   \n",
       "1656008                  2                     2                199   \n",
       "2205242                  1                     3                249   \n",
       "991111                   3                     1                132   \n",
       "1698680                  1                     1                202   \n",
       "1639782                  3                     3                196   \n",
       "523969                   3                     2                 67   \n",
       "\n",
       "         procedure_encoded  county_encoded  los  total_charges      actual  \\\n",
       "703410                  42              26   41     1977082.18  1977082.18   \n",
       "868656                  81              55   30     1252397.19  1252397.19   \n",
       "1229955                213              41  118     1998305.15  1998305.15   \n",
       "111248                 137              29   39     1062891.97  1062891.97   \n",
       "1656008                213              26   56     1168526.27  1168526.27   \n",
       "2205242                206              26   10      735079.95   735079.95   \n",
       "991111                 213              22   58      969419.00   969419.00   \n",
       "1698680                 66              55   54      217651.85   217651.85   \n",
       "1639782                 15               3   42      823033.36   823033.36   \n",
       "523969                 179               3   39      709692.77   709692.77   \n",
       "\n",
       "            predicted         error     abs_error  \n",
       "703410   2.035756e+05  1.773507e+06  1.773507e+06  \n",
       "868656   1.429414e+05  1.109456e+06  1.109456e+06  \n",
       "1229955  1.228735e+06  7.695700e+05  7.695700e+05  \n",
       "111248   3.791441e+05  6.837479e+05  6.837479e+05  \n",
       "1656008  5.297268e+05  6.387995e+05  6.387995e+05  \n",
       "2205242  1.346995e+05  6.003805e+05  6.003805e+05  \n",
       "991111   4.372956e+05  5.321234e+05  5.321234e+05  \n",
       "1698680  7.430887e+05 -5.254368e+05  5.254368e+05  \n",
       "1639782  3.013916e+05  5.216418e+05  5.216418e+05  \n",
       "523969   1.987790e+05  5.109138e+05  5.109138e+05  "
      ]
     },
     "execution_count": 163,
     "metadata": {},
     "output_type": "execute_result"
    }
   ],
   "source": [
    "merged_df.sort_values('abs_error', ascending=False).head(10)"
   ]
  },
  {
   "cell_type": "markdown",
   "id": "a0e03773",
   "metadata": {},
   "source": [
    "#### **Summary Stats  for Length of Stay (LOS) on Worst Predictions:**"
   ]
  },
  {
   "cell_type": "code",
   "execution_count": 164,
   "id": "d3ca0200",
   "metadata": {},
   "outputs": [
    {
     "data": {
      "text/plain": [
       "count    10000.000000\n",
       "mean         5.263500\n",
       "std          7.084284\n",
       "min          1.000000\n",
       "25%          2.000000\n",
       "50%          3.000000\n",
       "75%          6.000000\n",
       "max        118.000000\n",
       "Name: los, dtype: float64"
      ]
     },
     "execution_count": 164,
     "metadata": {},
     "output_type": "execute_result"
    }
   ],
   "source": [
    "merged_df['los'].describe()"
   ]
  },
  {
   "cell_type": "markdown",
   "id": "59da02f8",
   "metadata": {},
   "source": [
    "#### **Count How Often Each Diagnosis Appears in the Worst Residuals:**"
   ]
  },
  {
   "cell_type": "code",
   "execution_count": 165,
   "id": "e2a26aac",
   "metadata": {},
   "outputs": [
    {
     "data": {
      "text/plain": [
       "diagnosis_encoded\n",
       "137    224342\n",
       "241    110942\n",
       "167     67235\n",
       "150     54134\n",
       "12      50444\n",
       "67      49629\n",
       "221     45668\n",
       "177     42980\n",
       "238     42117\n",
       "56      42097\n",
       "Name: count, dtype: int64"
      ]
     },
     "execution_count": 165,
     "metadata": {},
     "output_type": "execute_result"
    }
   ],
   "source": [
    "merged_df['diagnosis_encoded'].value_counts()\n",
    "\n",
    "# Frequency of all diagnosis codes\n",
    "model_input_df[\"diagnosis_encoded\"].value_counts().head(10)"
   ]
  },
  {
   "cell_type": "code",
   "execution_count": 166,
   "id": "983e2c9a",
   "metadata": {},
   "outputs": [
    {
     "name": "stdout",
     "output_type": "stream",
     "text": [
      "Top 1000 Hernia %: 0.008\n",
      "Full Dataset Hernia %: 0.005214058697770797\n"
     ]
    }
   ],
   "source": [
    "top1000 = merged_df.sort_values(\"abs_error\", ascending=False).head(1000)\n",
    "top1000_hernia_rate = (top1000[\"diagnosis_encoded\"] == 1).mean()\n",
    "full_hernia_rate = (model_input_df[\"diagnosis_encoded\"] == 1).mean()\n",
    "print(\"Top 1000 Hernia %:\", top1000_hernia_rate)\n",
    "print(\"Full Dataset Hernia %:\", full_hernia_rate)"
   ]
  },
  {
   "cell_type": "markdown",
   "id": "7068be52",
   "metadata": {},
   "source": [
    "## Abdomial Hernia"
   ]
  },
  {
   "cell_type": "markdown",
   "id": "c034726e",
   "metadata": {},
   "source": [
    "####  **Plot the Distribution of Errors:**"
   ]
  },
  {
   "cell_type": "code",
   "execution_count": 167,
   "id": "a3224427",
   "metadata": {},
   "outputs": [
    {
     "name": "stdout",
     "output_type": "stream",
     "text": [
      "Hernia mean abs error: 15038.96842516839\n",
      "Non-hernia mean abs error: 14578.599182743645\n"
     ]
    }
   ],
   "source": [
    "# Filter from merged_df instead of model_input_df\n",
    "hernia_cases = merged_df[merged_df[\"diagnosis_encoded\"] == 1]\n",
    "non_hernia_cases = merged_df[merged_df[\"diagnosis_encoded\"] != 1]\n",
    "\n",
    "# Compare average absolute error\n",
    "print(\"Hernia mean abs error:\", hernia_cases[\"abs_error\"].mean())\n",
    "print(\"Non-hernia mean abs error:\", non_hernia_cases[\"abs_error\"].mean())"
   ]
  },
  {
   "cell_type": "code",
   "execution_count": 168,
   "id": "ba11761d",
   "metadata": {},
   "outputs": [
    {
     "name": "stdout",
     "output_type": "stream",
     "text": [
      "(9946, 14)\n",
      "0\n"
     ]
    }
   ],
   "source": [
    "print(non_hernia_cases.shape)\n",
    "print(non_hernia_cases[\"abs_error\"].isna().sum())"
   ]
  },
  {
   "cell_type": "code",
   "execution_count": 169,
   "id": "a8760116",
   "metadata": {},
   "outputs": [
    {
     "data": {
      "image/png": "[encoded data removed]",
      "text/plain": [
       "<Figure size 640x480 with 1 Axes>"
      ]
     },
     "metadata": {},
     "output_type": "display_data"
    }
   ],
   "source": [
    "import seaborn as sns\n",
    "import matplotlib.pyplot as plt\n",
    "\n",
    "sns.histplot(hernia_cases[\"abs_error\"], bins=50, kde=True, color='red', label='Hernia')\n",
    "plt.legend()\n",
    "plt.title(\"Absolute Error Distribution: Hernia \")\n",
    "plt.xlabel(\"Absolute Error ($)\")\n",
    "plt.ylabel(\"Frequency\")\n",
    "plt.show()"
   ]
  },
  {
   "cell_type": "code",
   "execution_count": 170,
   "id": "8c45b12a",
   "metadata": {},
   "outputs": [
    {
     "data": {
      "text/plain": [
       "diagnosis_encoded\n",
       "137    0.0998\n",
       "241    0.0478\n",
       "167    0.0251\n",
       "150    0.0229\n",
       "12     0.0228\n",
       "221    0.0214\n",
       "67     0.0207\n",
       "238    0.0206\n",
       "56     0.0183\n",
       "177    0.0177\n",
       "Name: proportion, dtype: float64"
      ]
     },
     "execution_count": 170,
     "metadata": {},
     "output_type": "execute_result"
    }
   ],
   "source": [
    "merged_df['diagnosis_encoded'].value_counts(normalize=True).head(10)"
   ]
  },
  {
   "cell_type": "markdown",
   "id": "6088be38",
   "metadata": {},
   "source": [
    "#### ****Identify Most Common Diagnoses in Top 1000 Errors:****"
   ]
  },
  {
   "cell_type": "code",
   "execution_count": null,
   "id": "9ae95638",
   "metadata": {},
   "outputs": [
    {
     "data": {
      "text/plain": [
       "diagnosis_encoded\n",
       "241    0.087\n",
       "8      0.039\n",
       "7      0.037\n",
       "249    0.034\n",
       "63     0.033\n",
       "112    0.032\n",
       "137    0.031\n",
       "69     0.030\n",
       "56     0.029\n",
       "238    0.028\n",
       "Name: proportion, dtype: float64"
      ]
     },
     "execution_count": 171,
     "metadata": {},
     "output_type": "execute_result"
    }
   ],
   "source": [
    "top_1000 = merged_df.sort_values(by='abs_error', ascending=False).head(1000)\n",
    "top1000['diagnosis_encoded'].value_counts(normalize=True).head(10)"
   ]
  },
  {
   "cell_type": "code",
   "execution_count": 172,
   "id": "3367a5d4",
   "metadata": {},
   "outputs": [
    {
     "data": {
      "text/plain": [
       "diagnosis_encoded\n",
       "137    0.095809\n",
       "241    0.047380\n",
       "167    0.028714\n",
       "150    0.023119\n",
       "12     0.021543\n",
       "67     0.021195\n",
       "221    0.019503\n",
       "177    0.018355\n",
       "238    0.017987\n",
       "56     0.017978\n",
       "Name: proportion, dtype: float64"
      ]
     },
     "execution_count": 172,
     "metadata": {},
     "output_type": "execute_result"
    }
   ],
   "source": [
    "# Compare to full dataset\n",
    "model_input_df['diagnosis_encoded'].value_counts(normalize=True).head(10)"
   ]
  },
  {
   "cell_type": "code",
   "execution_count": null,
   "id": "3ed4b8cf",
   "metadata": {},
   "outputs": [],
   "source": []
  }
 ],
 "metadata": {
  "kernelspec": {
   "display_name": "base",
   "language": "python",
   "name": "python3"
  },
  "language_info": {
   "codemirror_mode": {
    "name": "ipython",
    "version": 3
   },
   "file_extension": ".py",
   "mimetype": "text/x-python",
   "name": "python",
   "nbconvert_exporter": "python",
   "pygments_lexer": "ipython3",
   "version": "3.12.4"
  }
 },
 "nbformat": 4,
 "nbformat_minor": 5
}
