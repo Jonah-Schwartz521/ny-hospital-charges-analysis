{
 "cells": [
  {
   "cell_type": "code",
   "execution_count": 1,
   "id": "d94f5781",
   "metadata": {},
   "outputs": [],
   "source": [
    "import pandas as pd \n",
    "residuals_df = pd.read_csv('../data/sample_residuals_10k.csv', index_col=0)\n",
    "model_input_df = pd.read_csv('../data/model_input.csv')\n"
   ]
  },
  {
   "cell_type": "code",
   "execution_count": 2,
   "id": "30246bf5",
   "metadata": {},
   "outputs": [
    {
     "name": "stdout",
     "output_type": "stream",
     "text": [
      "             actual     predicted         error     abs_error\n",
      "count  1.000000e+04  1.000000e+04  1.000000e+04  1.000000e+04\n",
      "mean   4.491069e+04  4.027263e+04  4.638068e+03  1.458109e+04\n",
      "std    7.631185e+04  5.558975e+04  4.185966e+04  3.951096e+04\n",
      "min    1.000000e+00  7.189717e+02 -5.254368e+05  1.769647e-01\n",
      "25%    1.232840e+04  1.291454e+04 -4.574534e+03  1.884594e+03\n",
      "50%    2.422062e+04  2.450847e+04 -1.346627e+02  5.237635e+03\n",
      "75%    4.898450e+04  4.596429e+04  6.207281e+03  1.347012e+04\n",
      "max    1.998305e+06  1.228735e+06  1.773507e+06  1.773507e+06\n",
      "<class 'pandas.core.frame.DataFrame'>\n",
      "Index: 10000 entries, 1985134 to 909011\n",
      "Data columns (total 4 columns):\n",
      " #   Column     Non-Null Count  Dtype  \n",
      "---  ------     --------------  -----  \n",
      " 0   actual     10000 non-null  float64\n",
      " 1   predicted  10000 non-null  float64\n",
      " 2   error      10000 non-null  float64\n",
      " 3   abs_error  10000 non-null  float64\n",
      "dtypes: float64(4)\n",
      "memory usage: 390.6 KB\n",
      "None\n"
     ]
    }
   ],
   "source": [
    "print(residuals_df.describe())\n",
    "print(residuals_df.info())"
   ]
  },
  {
   "cell_type": "markdown",
   "id": "a04169e7",
   "metadata": {},
   "source": [
    "#### **Merge on Index:**"
   ]
  },
  {
   "cell_type": "code",
   "execution_count": 3,
   "id": "2d00c2c0",
   "metadata": {},
   "outputs": [],
   "source": [
    "# Join residuals and feautres using index \n",
    "merged_df = model_input_df.loc[residuals_df.index].copy()\n",
    "\n",
    "# Add error columns back in \n",
    "merged_df['actual'] = residuals_df['actual']\n",
    "merged_df['predicted'] = residuals_df['predicted']\n",
    "merged_df['error'] = residuals_df['error'] \n",
    "merged_df['abs_error'] = residuals_df['abs_error']"
   ]
  },
  {
   "cell_type": "markdown",
   "id": "b5281547",
   "metadata": {},
   "source": [
    "# Explore Patterns That Caused Huge Errors"
   ]
  },
  {
   "cell_type": "markdown",
   "id": "0228f4fe",
   "metadata": {},
   "source": [
    "#### **Top 10 Highest-Error Cases**:"
   ]
  },
  {
   "cell_type": "code",
   "execution_count": 4,
   "id": "42a2990a",
   "metadata": {},
   "outputs": [
    {
     "data": {
      "text/html": [
       "<div>\n",
       "<style scoped>\n",
       "    .dataframe tbody tr th:only-of-type {\n",
       "        vertical-align: middle;\n",
       "    }\n",
       "\n",
       "    .dataframe tbody tr th {\n",
       "        vertical-align: top;\n",
       "    }\n",
       "\n",
       "    .dataframe thead th {\n",
       "        text-align: right;\n",
       "    }\n",
       "</style>\n",
       "<table border=\"1\" class=\"dataframe\">\n",
       "  <thead>\n",
       "    <tr style=\"text-align: right;\">\n",
       "      <th></th>\n",
       "      <th>gender_encoded</th>\n",
       "      <th>age_group_encoded</th>\n",
       "      <th>severity_encoded</th>\n",
       "      <th>admission_encoded</th>\n",
       "      <th>payment_type_encoded</th>\n",
       "      <th>diagnosis_encoded</th>\n",
       "      <th>procedure_encoded</th>\n",
       "      <th>county_encoded</th>\n",
       "      <th>los</th>\n",
       "      <th>total_charges</th>\n",
       "      <th>actual</th>\n",
       "      <th>predicted</th>\n",
       "      <th>error</th>\n",
       "      <th>abs_error</th>\n",
       "    </tr>\n",
       "  </thead>\n",
       "  <tbody>\n",
       "    <tr>\n",
       "      <th>703410</th>\n",
       "      <td>0</td>\n",
       "      <td>1</td>\n",
       "      <td>2</td>\n",
       "      <td>3</td>\n",
       "      <td>3</td>\n",
       "      <td>88</td>\n",
       "      <td>42</td>\n",
       "      <td>26</td>\n",
       "      <td>41</td>\n",
       "      <td>1977082.18</td>\n",
       "      <td>1977082.18</td>\n",
       "      <td>2.035756e+05</td>\n",
       "      <td>1.773507e+06</td>\n",
       "      <td>1.773507e+06</td>\n",
       "    </tr>\n",
       "    <tr>\n",
       "      <th>868656</th>\n",
       "      <td>0</td>\n",
       "      <td>4</td>\n",
       "      <td>3</td>\n",
       "      <td>3</td>\n",
       "      <td>0</td>\n",
       "      <td>112</td>\n",
       "      <td>81</td>\n",
       "      <td>55</td>\n",
       "      <td>30</td>\n",
       "      <td>1252397.19</td>\n",
       "      <td>1252397.19</td>\n",
       "      <td>1.429414e+05</td>\n",
       "      <td>1.109456e+06</td>\n",
       "      <td>1.109456e+06</td>\n",
       "    </tr>\n",
       "    <tr>\n",
       "      <th>1229955</th>\n",
       "      <td>1</td>\n",
       "      <td>3</td>\n",
       "      <td>4</td>\n",
       "      <td>3</td>\n",
       "      <td>2</td>\n",
       "      <td>138</td>\n",
       "      <td>213</td>\n",
       "      <td>41</td>\n",
       "      <td>118</td>\n",
       "      <td>1998305.15</td>\n",
       "      <td>1998305.15</td>\n",
       "      <td>1.228735e+06</td>\n",
       "      <td>7.695700e+05</td>\n",
       "      <td>7.695700e+05</td>\n",
       "    </tr>\n",
       "    <tr>\n",
       "      <th>111248</th>\n",
       "      <td>0</td>\n",
       "      <td>3</td>\n",
       "      <td>4</td>\n",
       "      <td>2</td>\n",
       "      <td>0</td>\n",
       "      <td>8</td>\n",
       "      <td>137</td>\n",
       "      <td>29</td>\n",
       "      <td>39</td>\n",
       "      <td>1062891.97</td>\n",
       "      <td>1062891.97</td>\n",
       "      <td>3.791441e+05</td>\n",
       "      <td>6.837479e+05</td>\n",
       "      <td>6.837479e+05</td>\n",
       "    </tr>\n",
       "    <tr>\n",
       "      <th>1656008</th>\n",
       "      <td>1</td>\n",
       "      <td>3</td>\n",
       "      <td>4</td>\n",
       "      <td>2</td>\n",
       "      <td>2</td>\n",
       "      <td>199</td>\n",
       "      <td>213</td>\n",
       "      <td>26</td>\n",
       "      <td>56</td>\n",
       "      <td>1168526.27</td>\n",
       "      <td>1168526.27</td>\n",
       "      <td>5.297268e+05</td>\n",
       "      <td>6.387995e+05</td>\n",
       "      <td>6.387995e+05</td>\n",
       "    </tr>\n",
       "    <tr>\n",
       "      <th>2205242</th>\n",
       "      <td>1</td>\n",
       "      <td>3</td>\n",
       "      <td>3</td>\n",
       "      <td>1</td>\n",
       "      <td>3</td>\n",
       "      <td>249</td>\n",
       "      <td>206</td>\n",
       "      <td>26</td>\n",
       "      <td>10</td>\n",
       "      <td>735079.95</td>\n",
       "      <td>735079.95</td>\n",
       "      <td>1.346995e+05</td>\n",
       "      <td>6.003805e+05</td>\n",
       "      <td>6.003805e+05</td>\n",
       "    </tr>\n",
       "    <tr>\n",
       "      <th>991111</th>\n",
       "      <td>1</td>\n",
       "      <td>0</td>\n",
       "      <td>4</td>\n",
       "      <td>3</td>\n",
       "      <td>1</td>\n",
       "      <td>132</td>\n",
       "      <td>213</td>\n",
       "      <td>22</td>\n",
       "      <td>58</td>\n",
       "      <td>969419.00</td>\n",
       "      <td>969419.00</td>\n",
       "      <td>4.372956e+05</td>\n",
       "      <td>5.321234e+05</td>\n",
       "      <td>5.321234e+05</td>\n",
       "    </tr>\n",
       "    <tr>\n",
       "      <th>1698680</th>\n",
       "      <td>0</td>\n",
       "      <td>0</td>\n",
       "      <td>4</td>\n",
       "      <td>1</td>\n",
       "      <td>1</td>\n",
       "      <td>202</td>\n",
       "      <td>66</td>\n",
       "      <td>55</td>\n",
       "      <td>54</td>\n",
       "      <td>217651.85</td>\n",
       "      <td>217651.85</td>\n",
       "      <td>7.430887e+05</td>\n",
       "      <td>-5.254368e+05</td>\n",
       "      <td>5.254368e+05</td>\n",
       "    </tr>\n",
       "    <tr>\n",
       "      <th>1639782</th>\n",
       "      <td>1</td>\n",
       "      <td>1</td>\n",
       "      <td>4</td>\n",
       "      <td>3</td>\n",
       "      <td>3</td>\n",
       "      <td>196</td>\n",
       "      <td>15</td>\n",
       "      <td>3</td>\n",
       "      <td>42</td>\n",
       "      <td>823033.36</td>\n",
       "      <td>823033.36</td>\n",
       "      <td>3.013916e+05</td>\n",
       "      <td>5.216418e+05</td>\n",
       "      <td>5.216418e+05</td>\n",
       "    </tr>\n",
       "    <tr>\n",
       "      <th>523969</th>\n",
       "      <td>1</td>\n",
       "      <td>2</td>\n",
       "      <td>4</td>\n",
       "      <td>3</td>\n",
       "      <td>2</td>\n",
       "      <td>67</td>\n",
       "      <td>179</td>\n",
       "      <td>3</td>\n",
       "      <td>39</td>\n",
       "      <td>709692.77</td>\n",
       "      <td>709692.77</td>\n",
       "      <td>1.987790e+05</td>\n",
       "      <td>5.109138e+05</td>\n",
       "      <td>5.109138e+05</td>\n",
       "    </tr>\n",
       "  </tbody>\n",
       "</table>\n",
       "</div>"
      ],
      "text/plain": [
       "         gender_encoded  age_group_encoded  severity_encoded  \\\n",
       "703410                0                  1                 2   \n",
       "868656                0                  4                 3   \n",
       "1229955               1                  3                 4   \n",
       "111248                0                  3                 4   \n",
       "1656008               1                  3                 4   \n",
       "2205242               1                  3                 3   \n",
       "991111                1                  0                 4   \n",
       "1698680               0                  0                 4   \n",
       "1639782               1                  1                 4   \n",
       "523969                1                  2                 4   \n",
       "\n",
       "         admission_encoded  payment_type_encoded  diagnosis_encoded  \\\n",
       "703410                   3                     3                 88   \n",
       "868656                   3                     0                112   \n",
       "1229955                  3                     2                138   \n",
       "111248                   2                     0                  8   \n",
       "1656008                  2                     2                199   \n",
       "2205242                  1                     3                249   \n",
       "991111                   3                     1                132   \n",
       "1698680                  1                     1                202   \n",
       "1639782                  3                     3                196   \n",
       "523969                   3                     2                 67   \n",
       "\n",
       "         procedure_encoded  county_encoded  los  total_charges      actual  \\\n",
       "703410                  42              26   41     1977082.18  1977082.18   \n",
       "868656                  81              55   30     1252397.19  1252397.19   \n",
       "1229955                213              41  118     1998305.15  1998305.15   \n",
       "111248                 137              29   39     1062891.97  1062891.97   \n",
       "1656008                213              26   56     1168526.27  1168526.27   \n",
       "2205242                206              26   10      735079.95   735079.95   \n",
       "991111                 213              22   58      969419.00   969419.00   \n",
       "1698680                 66              55   54      217651.85   217651.85   \n",
       "1639782                 15               3   42      823033.36   823033.36   \n",
       "523969                 179               3   39      709692.77   709692.77   \n",
       "\n",
       "            predicted         error     abs_error  \n",
       "703410   2.035756e+05  1.773507e+06  1.773507e+06  \n",
       "868656   1.429414e+05  1.109456e+06  1.109456e+06  \n",
       "1229955  1.228735e+06  7.695700e+05  7.695700e+05  \n",
       "111248   3.791441e+05  6.837479e+05  6.837479e+05  \n",
       "1656008  5.297268e+05  6.387995e+05  6.387995e+05  \n",
       "2205242  1.346995e+05  6.003805e+05  6.003805e+05  \n",
       "991111   4.372956e+05  5.321234e+05  5.321234e+05  \n",
       "1698680  7.430887e+05 -5.254368e+05  5.254368e+05  \n",
       "1639782  3.013916e+05  5.216418e+05  5.216418e+05  \n",
       "523969   1.987790e+05  5.109138e+05  5.109138e+05  "
      ]
     },
     "execution_count": 4,
     "metadata": {},
     "output_type": "execute_result"
    }
   ],
   "source": [
    "merged_df.sort_values('abs_error', ascending=False).head(10)"
   ]
  },
  {
   "cell_type": "markdown",
   "id": "a0e03773",
   "metadata": {},
   "source": [
    "#### **Summary Stats  for Length of Stay (LOS) on Worst Predictions:**"
   ]
  },
  {
   "cell_type": "code",
   "execution_count": 5,
   "id": "d3ca0200",
   "metadata": {},
   "outputs": [
    {
     "data": {
      "text/plain": [
       "count    10000.000000\n",
       "mean         5.263500\n",
       "std          7.084284\n",
       "min          1.000000\n",
       "25%          2.000000\n",
       "50%          3.000000\n",
       "75%          6.000000\n",
       "max        118.000000\n",
       "Name: los, dtype: float64"
      ]
     },
     "execution_count": 5,
     "metadata": {},
     "output_type": "execute_result"
    }
   ],
   "source": [
    "merged_df['los'].describe()"
   ]
  },
  {
   "cell_type": "markdown",
   "id": "610bca61",
   "metadata": {},
   "source": [
    "- **Count:** 10,000 patients in the random sample\n",
    "- **Mean LOS:** 5.26 days\n",
    "- **Median (50th percentile):** 3 days\n",
    "- **Standard Deviation:** 7.08 days — suggests a wide range of stays\n",
    "- **25th / 75th Percentiles:** Half of patients stayed between 2 and 6 days\n",
    "- **Minimum / Maximum:** Shortest stay was 1 day, longest was 118 days"
   ]
  },
  {
   "cell_type": "markdown",
   "id": "59da02f8",
   "metadata": {},
   "source": [
    "### **Top 10 Most Common Diagnoses (Full Dataset):**"
   ]
  },
  {
   "cell_type": "code",
   "execution_count": 6,
   "id": "e2a26aac",
   "metadata": {},
   "outputs": [
    {
     "data": {
      "text/plain": [
       "diagnosis_encoded\n",
       "137    224342\n",
       "241    110942\n",
       "167     67235\n",
       "150     54134\n",
       "12      50444\n",
       "67      49629\n",
       "221     45668\n",
       "177     42980\n",
       "238     42117\n",
       "56      42097\n",
       "Name: count, dtype: int64"
      ]
     },
     "execution_count": 6,
     "metadata": {},
     "output_type": "execute_result"
    }
   ],
   "source": [
    "merged_df['diagnosis_encoded'].value_counts()\n",
    "\n",
    "# Frequency of all diagnosis codes\n",
    "model_input_df[\"diagnosis_encoded\"].value_counts().head(10)"
   ]
  },
  {
   "cell_type": "markdown",
   "id": "6ea95990",
   "metadata": {},
   "source": [
    "- **137 – Liveborn:** 224,342 cases  \n",
    "- **241 – Septicemia:** 110,942 cases  \n",
    "- **167 – Osteoarthritis:** 67,235 cases  \n",
    "- **150 – Mood disorders:** 54,134 cases  \n",
    "- Other common conditions include alcohol-related disorders (12), heart failure (67), pneumonia (221), and psychotic disorders (238)."
   ]
  },
  {
   "cell_type": "markdown",
   "id": "2b1cd64f",
   "metadata": {},
   "source": [
    "### **Diagnosis Frequencies in Random 10k Sample:**"
   ]
  },
  {
   "cell_type": "code",
   "execution_count": 22,
   "id": "8a1aa3b8",
   "metadata": {},
   "outputs": [
    {
     "data": {
      "text/plain": [
       "diagnosis_encoded\n",
       "137    998\n",
       "241    478\n",
       "167    251\n",
       "150    229\n",
       "12     228\n",
       "      ... \n",
       "259      1\n",
       "117      1\n",
       "26       1\n",
       "52       1\n",
       "93       1\n",
       "Name: count, Length: 242, dtype: int64"
      ]
     },
     "execution_count": 22,
     "metadata": {},
     "output_type": "execute_result"
    }
   ],
   "source": [
    "merged_df['diagnosis_encoded'].value_counts()"
   ]
  },
  {
   "cell_type": "markdown",
   "id": "6f99d2be",
   "metadata": {},
   "source": [
    "- **137 – Liveborn:** 998 cases  \n",
    "- **241 – Septicemia:** 478 cases  \n",
    "- **167 – Osteoarthritis:** 251 cases  \n",
    "- **150 – Mood disorders:** 229 cases  \n",
    "- **12 – Alcohol-related disorders:** 228 cases  \n",
    "- ...\n",
    "- 242 unique diagnosis codes appear in the sample."
   ]
  },
  {
   "cell_type": "code",
   "execution_count": 8,
   "id": "983e2c9a",
   "metadata": {},
   "outputs": [
    {
     "name": "stdout",
     "output_type": "stream",
     "text": [
      "Top 1000 Liveborn %: 0.031\n",
      "Full Dataset Liveborn %: 0.09580902255510657\n"
     ]
    }
   ],
   "source": [
    "top1000 = merged_df.sort_values(\"abs_error\", ascending=False).head(1000)\n",
    "top1000_liveborn_rate = (top1000[\"diagnosis_encoded\"] == 137).mean()\n",
    "full_liveborn_rate = (model_input_df[\"diagnosis_encoded\"] == 137).mean()\n",
    "print(\"Top 1000 Liveborn %:\", top1000_liveborn_rate)\n",
    "print(\"Full Dataset Liveborn %:\", full_liveborn_rate)"
   ]
  },
  {
   "cell_type": "markdown",
   "id": "19eef9e0",
   "metadata": {},
   "source": [
    "- Liveborn cases (code 137) account for 9.6% of the total dataset but only 3.1% of the top 1000 highest-error predictions.\n",
    "\n",
    "- This suggests the model performs relatively well on Liveborn cases — they are underrepresented among the worst residuals"
   ]
  },
  {
   "cell_type": "markdown",
   "id": "c034726e",
   "metadata": {},
   "source": [
    "####  **Plot the Distribution of Errors:**"
   ]
  },
  {
   "cell_type": "code",
   "execution_count": 13,
   "id": "a3224427",
   "metadata": {},
   "outputs": [
    {
     "name": "stdout",
     "output_type": "stream",
     "text": [
      "Liveborn mean abs error: 5494.3033889488615\n",
      "Non-liveborn mean abs error: 15588.484446162678\n"
     ]
    }
   ],
   "source": [
    "# Filter from merged_df instead of model_input_df\n",
    "liveborn_cases = merged_df[merged_df[\"diagnosis_encoded\"] == 137]\n",
    "non_liveborn_cases = merged_df[merged_df[\"diagnosis_encoded\"] != 137]\n",
    "\n",
    "# Compare average absolute error\n",
    "print(\"Liveborn mean abs error:\", liveborn_cases[\"abs_error\"].mean())\n",
    "print(\"Non-liveborn mean abs error:\", non_liveborn_cases[\"abs_error\"].mean())"
   ]
  },
  {
   "cell_type": "markdown",
   "id": "6d869c34",
   "metadata": {},
   "source": [
    "- The model’s predictions for Liveborn cases are significantly more accurate than for other diagnoses.\n",
    "\n",
    "- Lower mean absolute error indicates the model consistently estimates charges more precisely for Liveborn cases."
   ]
  },
  {
   "cell_type": "code",
   "execution_count": 24,
   "id": "a8760116",
   "metadata": {},
   "outputs": [
    {
     "data": {
      "image/png": "[encoded data removed]",
      "text/plain": [
       "<Figure size 640x480 with 1 Axes>"
      ]
     },
     "metadata": {},
     "output_type": "display_data"
    }
   ],
   "source": [
    "import seaborn as sns\n",
    "import matplotlib.pyplot as plt\n",
    "\n",
    "sns.histplot(liveborn_cases[\"abs_error\"], bins=50, kde=True, color='red', label='Liveborn')\n",
    "plt.legend()\n",
    "plt.title(\"Absolute Error Distribution: Liveborn Cases \")\n",
    "plt.xlabel(\"Absolute Error ($)\")\n",
    "plt.ylabel(\"Frequency\")\n",
    "plt.show()"
   ]
  },
  {
   "cell_type": "markdown",
   "id": "9ff91648",
   "metadata": {},
   "source": [
    "- Most Liveborn predictions have very low absolute error (clustered below $10,000).\n",
    "\n",
    "- The distribution is right-skewed, meaning a few outliers have larger errors, but they are rare."
   ]
  },
  {
   "cell_type": "markdown",
   "id": "2a309708",
   "metadata": {},
   "source": [
    "#### ****Identify Most Common Diagnoses in Top 1000 Errors:****"
   ]
  },
  {
   "cell_type": "code",
   "execution_count": null,
   "id": "8c45b12a",
   "metadata": {},
   "outputs": [
    {
     "data": {
      "text/plain": [
       "diagnosis_encoded\n",
       "137    0.0998\n",
       "241    0.0478\n",
       "167    0.0251\n",
       "150    0.0229\n",
       "12     0.0228\n",
       "221    0.0214\n",
       "67     0.0207\n",
       "238    0.0206\n",
       "56     0.0183\n",
       "177    0.0177\n",
       "Name: proportion, dtype: float64"
      ]
     },
     "execution_count": 16,
     "metadata": {},
     "output_type": "execute_result"
    }
   ],
   "source": [
    "# Top 10 most common\n",
    "merged_df['diagnosis_encoded'].value_counts(normalize=True).head(10)"
   ]
  },
  {
   "cell_type": "code",
   "execution_count": null,
   "id": "9ae95638",
   "metadata": {},
   "outputs": [
    {
     "data": {
      "text/plain": [
       "diagnosis_encoded\n",
       "241    0.087\n",
       "8      0.039\n",
       "7      0.037\n",
       "249    0.034\n",
       "63     0.033\n",
       "112    0.032\n",
       "137    0.031\n",
       "69     0.030\n",
       "56     0.029\n",
       "238    0.028\n",
       "Name: proportion, dtype: float64"
      ]
     },
     "execution_count": 18,
     "metadata": {},
     "output_type": "execute_result"
    }
   ],
   "source": [
    "# Top 10 most common diagnoses among the 1000 highest absolute errors\n",
    "top_1000 = merged_df.sort_values(by='abs_error', ascending=False).head(1000)\n",
    "top1000['diagnosis_encoded'].value_counts(normalize=True).head(10)"
   ]
  },
  {
   "cell_type": "code",
   "execution_count": 172,
   "id": "3367a5d4",
   "metadata": {},
   "outputs": [
    {
     "data": {
      "text/plain": [
       "diagnosis_encoded\n",
       "137    0.095809\n",
       "241    0.047380\n",
       "167    0.028714\n",
       "150    0.023119\n",
       "12     0.021543\n",
       "67     0.021195\n",
       "221    0.019503\n",
       "177    0.018355\n",
       "238    0.017987\n",
       "56     0.017978\n",
       "Name: proportion, dtype: float64"
      ]
     },
     "execution_count": 172,
     "metadata": {},
     "output_type": "execute_result"
    }
   ],
   "source": [
    "# Compare to full dataset\n",
    "model_input_df['diagnosis_encoded'].value_counts(normalize=True).head(10)"
   ]
  },
  {
   "cell_type": "markdown",
   "id": "7744d9b8",
   "metadata": {},
   "source": [
    "## **Diagnosis 241:** Septicemia (except in labor)"
   ]
  },
  {
   "cell_type": "code",
   "execution_count": 19,
   "id": "3ed4b8cf",
   "metadata": {},
   "outputs": [
    {
     "name": "stdout",
     "output_type": "stream",
     "text": [
      "Top 1000 Septicemia %: 0.087\n",
      "Full Dataset Septicemia %: 0.047379646166605595\n"
     ]
    }
   ],
   "source": [
    "# Is septicemia overrepresented in the worst predictions?\n",
    "top1000_septicemia = merged_df.sort_values(by='abs_error', ascending=False).head(1000)\n",
    "top1000_septicemia_rate = (top1000_septicemia['diagnosis_encoded'] == 241).mean()\n",
    "full_septicemia_rate = (model_input_df['diagnosis_encoded'] == 241).mean()\n",
    "\n",
    "print(\"Top 1000 Septicemia %:\", top1000_septicemia_rate)\n",
    "print(\"Full Dataset Septicemia %:\", full_septicemia_rate)"
   ]
  },
  {
   "cell_type": "markdown",
   "id": "94e9b36e",
   "metadata": {},
   "source": [
    "### Septicemia Overrepresentation\n",
    "\n",
    "- **Top 1000 Septicemia %: 8.7%**\n",
    "- **Full Dataset Septicemia %: 4.7%**\n",
    "\n",
    "This diagnosis is **nearly twice as common** in the worst 1000 model errors compared to the full dataset. This suggests the model is struggling to make accurate predictions for septicemia patients."
   ]
  },
  {
   "cell_type": "code",
   "execution_count": 20,
   "id": "e5291bc8",
   "metadata": {},
   "outputs": [
    {
     "name": "stdout",
     "output_type": "stream",
     "text": [
      "Septicemia mean abs error: 24308.77134289016\n",
      "Non-septicemia mean abs error: 14092.759826152687\n"
     ]
    }
   ],
   "source": [
    "# Is the model error higher for Septicemia?\n",
    "septicemia_cases = merged_df[merged_df[\"diagnosis_encoded\"] == 241]\n",
    "non_septicemia_cases = merged_df[merged_df[\"diagnosis_encoded\"] != 241]\n",
    "\n",
    "print(\"Septicemia mean abs error:\", septicemia_cases[\"abs_error\"].mean())\n",
    "print(\"Non-septicemia mean abs error:\", non_septicemia_cases[\"abs_error\"].mean())"
   ]
  },
  {
   "cell_type": "markdown",
   "id": "e0353fc0",
   "metadata": {},
   "source": [
    "### Higher Average Prediction Error\n",
    "\n",
    "- **Septicemia mean abs error: $24,309**\n",
    "- **Non-septicemia mean abs error: $14,093**\n",
    "\n",
    "Septicemia cases have **much larger average errors**, reinforcing that this group is especially hard to predict accurately."
   ]
  },
  {
   "cell_type": "code",
   "execution_count": 21,
   "id": "97a038d7",
   "metadata": {},
   "outputs": [
    {
     "data": {
      "text/plain": [
       "count    4.780000e+02\n",
       "mean     8.180178e+04\n",
       "std      1.180102e+05\n",
       "min      1.253180e+03\n",
       "25%      2.370410e+04\n",
       "50%      4.545451e+04\n",
       "75%      9.296493e+04\n",
       "max      1.391684e+06\n",
       "Name: total_charges, dtype: float64"
      ]
     },
     "execution_count": 21,
     "metadata": {},
     "output_type": "execute_result"
    }
   ],
   "source": [
    "septicemia_cases[\"total_charges\"].describe()"
   ]
  },
  {
   "cell_type": "markdown",
   "id": "53327acf",
   "metadata": {},
   "source": [
    "### Charge Distribution for Septicemia Cases\n",
    "\n",
    "Septicemia cases are:\n",
    "- **Expensive** on average (mean: $81,802)\n",
    "- **Highly variable**, with a standard deviation over $118,000\n",
    "- **Outlier-prone** (max case: $1.39 million)\n",
    "\n",
    "This volatility likely explains why prediction errors are so large for this diagnosis."
   ]
  },
  {
   "cell_type": "code",
   "execution_count": null,
   "id": "3f6aeb11",
   "metadata": {},
   "outputs": [],
   "source": []
  }
 ],
 "metadata": {
  "kernelspec": {
   "display_name": "base",
   "language": "python",
   "name": "python3"
  },
  "language_info": {
   "codemirror_mode": {
    "name": "ipython",
    "version": 3
   },
   "file_extension": ".py",
   "mimetype": "text/x-python",
   "name": "python",
   "nbconvert_exporter": "python",
   "pygments_lexer": "ipython3",
   "version": "3.12.4"
  }
 },
 "nbformat": 4,
 "nbformat_minor": 5
}
