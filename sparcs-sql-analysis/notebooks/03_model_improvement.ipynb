{
 "cells": [
  {
   "cell_type": "code",
   "execution_count": 27,
   "id": "57f911c5",
   "metadata": {},
   "outputs": [],
   "source": [
    "import pandas as pd \n",
    "import numpy as np \n",
    "import lightgbm as lgb \n",
    "from sklearn.model_selection import train_test_split\n",
    "from sklearn.metrics import mean_absolute_error\n",
    "from sklearn.metrics import mean_squared_error\n",
    "import shap\n",
    "import matplotlib.pyplot as plt\n",
    "import seaborn as sns\n",
    "\n",
    "df = pd.read_csv('../data/model_input.csv')"
   ]
  },
  {
   "cell_type": "markdown",
   "id": "0322efd3",
   "metadata": {},
   "source": [
    " Log-Transform Target Variable"
   ]
  },
  {
   "cell_type": "code",
   "execution_count": 28,
   "id": "6cb12eda",
   "metadata": {},
   "outputs": [],
   "source": [
    "# Remove rows where total_charges <= 0\n",
    "df = df[df['total_charges'] > 0].copy()\n",
    "\n",
    "# Log-transform the target\n",
    "df['log_total_charges'] = np.log1p(df['total_charges'])  "
   ]
  },
  {
   "cell_type": "markdown",
   "id": "b135d6ca",
   "metadata": {},
   "source": [
    " Define Features and Target"
   ]
  },
  {
   "cell_type": "code",
   "execution_count": 29,
   "id": "03317758",
   "metadata": {},
   "outputs": [],
   "source": [
    "feature_cols = [col for col in df.columns if col not in ['total_charges', 'log_charges']]  # adjust if needed\n",
    "X = df[feature_cols]\n",
    "y = df['log_total_charges']"
   ]
  },
  {
   "cell_type": "markdown",
   "id": "c4328829",
   "metadata": {},
   "source": [
    "Train/Test Split"
   ]
  },
  {
   "cell_type": "code",
   "execution_count": 30,
   "id": "b6286b2f",
   "metadata": {},
   "outputs": [],
   "source": [
    "# Split features and target \n",
    "X_train, X_test, y_train, y_test = train_test_split(X, y, test_size=0.2, random_state=42)"
   ]
  },
  {
   "cell_type": "markdown",
   "id": "20baac48",
   "metadata": {},
   "source": [
    "Train LightGBM Model"
   ]
  },
  {
   "cell_type": "code",
   "execution_count": 31,
   "id": "906e5db6",
   "metadata": {},
   "outputs": [
    {
     "name": "stdout",
     "output_type": "stream",
     "text": [
      "[LightGBM] [Info] Auto-choosing row-wise multi-threading, the overhead of testing was 0.022700 seconds.\n",
      "You can set `force_row_wise=true` to remove the overhead.\n",
      "And if memory is not enough, you can set `force_col_wise=true`.\n",
      "[LightGBM] [Info] Total Bins 854\n",
      "[LightGBM] [Info] Number of data points in the train set: 1873243, number of used features: 10\n",
      "[LightGBM] [Info] Start training from score 10.142437\n"
     ]
    },
    {
     "data": {
      "text/html": [
       "<style>#sk-container-id-3 {\n",
       "  /* Definition of color scheme common for light and dark mode */\n",
       "  --sklearn-color-text: black;\n",
       "  --sklearn-color-line: gray;\n",
       "  /* Definition of color scheme for unfitted estimators */\n",
       "  --sklearn-color-unfitted-level-0: #fff5e6;\n",
       "  --sklearn-color-unfitted-level-1: #f6e4d2;\n",
       "  --sklearn-color-unfitted-level-2: #ffe0b3;\n",
       "  --sklearn-color-unfitted-level-3: chocolate;\n",
       "  /* Definition of color scheme for fitted estimators */\n",
       "  --sklearn-color-fitted-level-0: #f0f8ff;\n",
       "  --sklearn-color-fitted-level-1: #d4ebff;\n",
       "  --sklearn-color-fitted-level-2: #b3dbfd;\n",
       "  --sklearn-color-fitted-level-3: cornflowerblue;\n",
       "\n",
       "  /* Specific color for light theme */\n",
       "  --sklearn-color-text-on-default-background: var(--sg-text-color, var(--theme-code-foreground, var(--jp-content-font-color1, black)));\n",
       "  --sklearn-color-background: var(--sg-background-color, var(--theme-background, var(--jp-layout-color0, white)));\n",
       "  --sklearn-color-border-box: var(--sg-text-color, var(--theme-code-foreground, var(--jp-content-font-color1, black)));\n",
       "  --sklearn-color-icon: #696969;\n",
       "\n",
       "  @media (prefers-color-scheme: dark) {\n",
       "    /* Redefinition of color scheme for dark theme */\n",
       "    --sklearn-color-text-on-default-background: var(--sg-text-color, var(--theme-code-foreground, var(--jp-content-font-color1, white)));\n",
       "    --sklearn-color-background: var(--sg-background-color, var(--theme-background, var(--jp-layout-color0, #111)));\n",
       "    --sklearn-color-border-box: var(--sg-text-color, var(--theme-code-foreground, var(--jp-content-font-color1, white)));\n",
       "    --sklearn-color-icon: #878787;\n",
       "  }\n",
       "}\n",
       "\n",
       "#sk-container-id-3 {\n",
       "  color: var(--sklearn-color-text);\n",
       "}\n",
       "\n",
       "#sk-container-id-3 pre {\n",
       "  padding: 0;\n",
       "}\n",
       "\n",
       "#sk-container-id-3 input.sk-hidden--visually {\n",
       "  border: 0;\n",
       "  clip: rect(1px 1px 1px 1px);\n",
       "  clip: rect(1px, 1px, 1px, 1px);\n",
       "  height: 1px;\n",
       "  margin: -1px;\n",
       "  overflow: hidden;\n",
       "  padding: 0;\n",
       "  position: absolute;\n",
       "  width: 1px;\n",
       "}\n",
       "\n",
       "#sk-container-id-3 div.sk-dashed-wrapped {\n",
       "  border: 1px dashed var(--sklearn-color-line);\n",
       "  margin: 0 0.4em 0.5em 0.4em;\n",
       "  box-sizing: border-box;\n",
       "  padding-bottom: 0.4em;\n",
       "  background-color: var(--sklearn-color-background);\n",
       "}\n",
       "\n",
       "#sk-container-id-3 div.sk-container {\n",
       "  /* jupyter's `normalize.less` sets `[hidden] { display: none; }`\n",
       "     but bootstrap.min.css set `[hidden] { display: none !important; }`\n",
       "     so we also need the `!important` here to be able to override the\n",
       "     default hidden behavior on the sphinx rendered scikit-learn.org.\n",
       "     See: https://github.com/scikit-learn/scikit-learn/issues/21755 */\n",
       "  display: inline-block !important;\n",
       "  position: relative;\n",
       "}\n",
       "\n",
       "#sk-container-id-3 div.sk-text-repr-fallback {\n",
       "  display: none;\n",
       "}\n",
       "\n",
       "div.sk-parallel-item,\n",
       "div.sk-serial,\n",
       "div.sk-item {\n",
       "  /* draw centered vertical line to link estimators */\n",
       "  background-image: linear-gradient(var(--sklearn-color-text-on-default-background), var(--sklearn-color-text-on-default-background));\n",
       "  background-size: 2px 100%;\n",
       "  background-repeat: no-repeat;\n",
       "  background-position: center center;\n",
       "}\n",
       "\n",
       "/* Parallel-specific style estimator block */\n",
       "\n",
       "#sk-container-id-3 div.sk-parallel-item::after {\n",
       "  content: \"\";\n",
       "  width: 100%;\n",
       "  border-bottom: 2px solid var(--sklearn-color-text-on-default-background);\n",
       "  flex-grow: 1;\n",
       "}\n",
       "\n",
       "#sk-container-id-3 div.sk-parallel {\n",
       "  display: flex;\n",
       "  align-items: stretch;\n",
       "  justify-content: center;\n",
       "  background-color: var(--sklearn-color-background);\n",
       "  position: relative;\n",
       "}\n",
       "\n",
       "#sk-container-id-3 div.sk-parallel-item {\n",
       "  display: flex;\n",
       "  flex-direction: column;\n",
       "}\n",
       "\n",
       "#sk-container-id-3 div.sk-parallel-item:first-child::after {\n",
       "  align-self: flex-end;\n",
       "  width: 50%;\n",
       "}\n",
       "\n",
       "#sk-container-id-3 div.sk-parallel-item:last-child::after {\n",
       "  align-self: flex-start;\n",
       "  width: 50%;\n",
       "}\n",
       "\n",
       "#sk-container-id-3 div.sk-parallel-item:only-child::after {\n",
       "  width: 0;\n",
       "}\n",
       "\n",
       "/* Serial-specific style estimator block */\n",
       "\n",
       "#sk-container-id-3 div.sk-serial {\n",
       "  display: flex;\n",
       "  flex-direction: column;\n",
       "  align-items: center;\n",
       "  background-color: var(--sklearn-color-background);\n",
       "  padding-right: 1em;\n",
       "  padding-left: 1em;\n",
       "}\n",
       "\n",
       "\n",
       "/* Toggleable style: style used for estimator/Pipeline/ColumnTransformer box that is\n",
       "clickable and can be expanded/collapsed.\n",
       "- Pipeline and ColumnTransformer use this feature and define the default style\n",
       "- Estimators will overwrite some part of the style using the `sk-estimator` class\n",
       "*/\n",
       "\n",
       "/* Pipeline and ColumnTransformer style (default) */\n",
       "\n",
       "#sk-container-id-3 div.sk-toggleable {\n",
       "  /* Default theme specific background. It is overwritten whether we have a\n",
       "  specific estimator or a Pipeline/ColumnTransformer */\n",
       "  background-color: var(--sklearn-color-background);\n",
       "}\n",
       "\n",
       "/* Toggleable label */\n",
       "#sk-container-id-3 label.sk-toggleable__label {\n",
       "  cursor: pointer;\n",
       "  display: block;\n",
       "  width: 100%;\n",
       "  margin-bottom: 0;\n",
       "  padding: 0.5em;\n",
       "  box-sizing: border-box;\n",
       "  text-align: center;\n",
       "}\n",
       "\n",
       "#sk-container-id-3 label.sk-toggleable__label-arrow:before {\n",
       "  /* Arrow on the left of the label */\n",
       "  content: \"▸\";\n",
       "  float: left;\n",
       "  margin-right: 0.25em;\n",
       "  color: var(--sklearn-color-icon);\n",
       "}\n",
       "\n",
       "#sk-container-id-3 label.sk-toggleable__label-arrow:hover:before {\n",
       "  color: var(--sklearn-color-text);\n",
       "}\n",
       "\n",
       "/* Toggleable content - dropdown */\n",
       "\n",
       "#sk-container-id-3 div.sk-toggleable__content {\n",
       "  max-height: 0;\n",
       "  max-width: 0;\n",
       "  overflow: hidden;\n",
       "  text-align: left;\n",
       "  /* unfitted */\n",
       "  background-color: var(--sklearn-color-unfitted-level-0);\n",
       "}\n",
       "\n",
       "#sk-container-id-3 div.sk-toggleable__content.fitted {\n",
       "  /* fitted */\n",
       "  background-color: var(--sklearn-color-fitted-level-0);\n",
       "}\n",
       "\n",
       "#sk-container-id-3 div.sk-toggleable__content pre {\n",
       "  margin: 0.2em;\n",
       "  border-radius: 0.25em;\n",
       "  color: var(--sklearn-color-text);\n",
       "  /* unfitted */\n",
       "  background-color: var(--sklearn-color-unfitted-level-0);\n",
       "}\n",
       "\n",
       "#sk-container-id-3 div.sk-toggleable__content.fitted pre {\n",
       "  /* unfitted */\n",
       "  background-color: var(--sklearn-color-fitted-level-0);\n",
       "}\n",
       "\n",
       "#sk-container-id-3 input.sk-toggleable__control:checked~div.sk-toggleable__content {\n",
       "  /* Expand drop-down */\n",
       "  max-height: 200px;\n",
       "  max-width: 100%;\n",
       "  overflow: auto;\n",
       "}\n",
       "\n",
       "#sk-container-id-3 input.sk-toggleable__control:checked~label.sk-toggleable__label-arrow:before {\n",
       "  content: \"▾\";\n",
       "}\n",
       "\n",
       "/* Pipeline/ColumnTransformer-specific style */\n",
       "\n",
       "#sk-container-id-3 div.sk-label input.sk-toggleable__control:checked~label.sk-toggleable__label {\n",
       "  color: var(--sklearn-color-text);\n",
       "  background-color: var(--sklearn-color-unfitted-level-2);\n",
       "}\n",
       "\n",
       "#sk-container-id-3 div.sk-label.fitted input.sk-toggleable__control:checked~label.sk-toggleable__label {\n",
       "  background-color: var(--sklearn-color-fitted-level-2);\n",
       "}\n",
       "\n",
       "/* Estimator-specific style */\n",
       "\n",
       "/* Colorize estimator box */\n",
       "#sk-container-id-3 div.sk-estimator input.sk-toggleable__control:checked~label.sk-toggleable__label {\n",
       "  /* unfitted */\n",
       "  background-color: var(--sklearn-color-unfitted-level-2);\n",
       "}\n",
       "\n",
       "#sk-container-id-3 div.sk-estimator.fitted input.sk-toggleable__control:checked~label.sk-toggleable__label {\n",
       "  /* fitted */\n",
       "  background-color: var(--sklearn-color-fitted-level-2);\n",
       "}\n",
       "\n",
       "#sk-container-id-3 div.sk-label label.sk-toggleable__label,\n",
       "#sk-container-id-3 div.sk-label label {\n",
       "  /* The background is the default theme color */\n",
       "  color: var(--sklearn-color-text-on-default-background);\n",
       "}\n",
       "\n",
       "/* On hover, darken the color of the background */\n",
       "#sk-container-id-3 div.sk-label:hover label.sk-toggleable__label {\n",
       "  color: var(--sklearn-color-text);\n",
       "  background-color: var(--sklearn-color-unfitted-level-2);\n",
       "}\n",
       "\n",
       "/* Label box, darken color on hover, fitted */\n",
       "#sk-container-id-3 div.sk-label.fitted:hover label.sk-toggleable__label.fitted {\n",
       "  color: var(--sklearn-color-text);\n",
       "  background-color: var(--sklearn-color-fitted-level-2);\n",
       "}\n",
       "\n",
       "/* Estimator label */\n",
       "\n",
       "#sk-container-id-3 div.sk-label label {\n",
       "  font-family: monospace;\n",
       "  font-weight: bold;\n",
       "  display: inline-block;\n",
       "  line-height: 1.2em;\n",
       "}\n",
       "\n",
       "#sk-container-id-3 div.sk-label-container {\n",
       "  text-align: center;\n",
       "}\n",
       "\n",
       "/* Estimator-specific */\n",
       "#sk-container-id-3 div.sk-estimator {\n",
       "  font-family: monospace;\n",
       "  border: 1px dotted var(--sklearn-color-border-box);\n",
       "  border-radius: 0.25em;\n",
       "  box-sizing: border-box;\n",
       "  margin-bottom: 0.5em;\n",
       "  /* unfitted */\n",
       "  background-color: var(--sklearn-color-unfitted-level-0);\n",
       "}\n",
       "\n",
       "#sk-container-id-3 div.sk-estimator.fitted {\n",
       "  /* fitted */\n",
       "  background-color: var(--sklearn-color-fitted-level-0);\n",
       "}\n",
       "\n",
       "/* on hover */\n",
       "#sk-container-id-3 div.sk-estimator:hover {\n",
       "  /* unfitted */\n",
       "  background-color: var(--sklearn-color-unfitted-level-2);\n",
       "}\n",
       "\n",
       "#sk-container-id-3 div.sk-estimator.fitted:hover {\n",
       "  /* fitted */\n",
       "  background-color: var(--sklearn-color-fitted-level-2);\n",
       "}\n",
       "\n",
       "/* Specification for estimator info (e.g. \"i\" and \"?\") */\n",
       "\n",
       "/* Common style for \"i\" and \"?\" */\n",
       "\n",
       ".sk-estimator-doc-link,\n",
       "a:link.sk-estimator-doc-link,\n",
       "a:visited.sk-estimator-doc-link {\n",
       "  float: right;\n",
       "  font-size: smaller;\n",
       "  line-height: 1em;\n",
       "  font-family: monospace;\n",
       "  background-color: var(--sklearn-color-background);\n",
       "  border-radius: 1em;\n",
       "  height: 1em;\n",
       "  width: 1em;\n",
       "  text-decoration: none !important;\n",
       "  margin-left: 1ex;\n",
       "  /* unfitted */\n",
       "  border: var(--sklearn-color-unfitted-level-1) 1pt solid;\n",
       "  color: var(--sklearn-color-unfitted-level-1);\n",
       "}\n",
       "\n",
       ".sk-estimator-doc-link.fitted,\n",
       "a:link.sk-estimator-doc-link.fitted,\n",
       "a:visited.sk-estimator-doc-link.fitted {\n",
       "  /* fitted */\n",
       "  border: var(--sklearn-color-fitted-level-1) 1pt solid;\n",
       "  color: var(--sklearn-color-fitted-level-1);\n",
       "}\n",
       "\n",
       "/* On hover */\n",
       "div.sk-estimator:hover .sk-estimator-doc-link:hover,\n",
       ".sk-estimator-doc-link:hover,\n",
       "div.sk-label-container:hover .sk-estimator-doc-link:hover,\n",
       ".sk-estimator-doc-link:hover {\n",
       "  /* unfitted */\n",
       "  background-color: var(--sklearn-color-unfitted-level-3);\n",
       "  color: var(--sklearn-color-background);\n",
       "  text-decoration: none;\n",
       "}\n",
       "\n",
       "div.sk-estimator.fitted:hover .sk-estimator-doc-link.fitted:hover,\n",
       ".sk-estimator-doc-link.fitted:hover,\n",
       "div.sk-label-container:hover .sk-estimator-doc-link.fitted:hover,\n",
       ".sk-estimator-doc-link.fitted:hover {\n",
       "  /* fitted */\n",
       "  background-color: var(--sklearn-color-fitted-level-3);\n",
       "  color: var(--sklearn-color-background);\n",
       "  text-decoration: none;\n",
       "}\n",
       "\n",
       "/* Span, style for the box shown on hovering the info icon */\n",
       ".sk-estimator-doc-link span {\n",
       "  display: none;\n",
       "  z-index: 9999;\n",
       "  position: relative;\n",
       "  font-weight: normal;\n",
       "  right: .2ex;\n",
       "  padding: .5ex;\n",
       "  margin: .5ex;\n",
       "  width: min-content;\n",
       "  min-width: 20ex;\n",
       "  max-width: 50ex;\n",
       "  color: var(--sklearn-color-text);\n",
       "  box-shadow: 2pt 2pt 4pt #999;\n",
       "  /* unfitted */\n",
       "  background: var(--sklearn-color-unfitted-level-0);\n",
       "  border: .5pt solid var(--sklearn-color-unfitted-level-3);\n",
       "}\n",
       "\n",
       ".sk-estimator-doc-link.fitted span {\n",
       "  /* fitted */\n",
       "  background: var(--sklearn-color-fitted-level-0);\n",
       "  border: var(--sklearn-color-fitted-level-3);\n",
       "}\n",
       "\n",
       ".sk-estimator-doc-link:hover span {\n",
       "  display: block;\n",
       "}\n",
       "\n",
       "/* \"?\"-specific style due to the `<a>` HTML tag */\n",
       "\n",
       "#sk-container-id-3 a.estimator_doc_link {\n",
       "  float: right;\n",
       "  font-size: 1rem;\n",
       "  line-height: 1em;\n",
       "  font-family: monospace;\n",
       "  background-color: var(--sklearn-color-background);\n",
       "  border-radius: 1rem;\n",
       "  height: 1rem;\n",
       "  width: 1rem;\n",
       "  text-decoration: none;\n",
       "  /* unfitted */\n",
       "  color: var(--sklearn-color-unfitted-level-1);\n",
       "  border: var(--sklearn-color-unfitted-level-1) 1pt solid;\n",
       "}\n",
       "\n",
       "#sk-container-id-3 a.estimator_doc_link.fitted {\n",
       "  /* fitted */\n",
       "  border: var(--sklearn-color-fitted-level-1) 1pt solid;\n",
       "  color: var(--sklearn-color-fitted-level-1);\n",
       "}\n",
       "\n",
       "/* On hover */\n",
       "#sk-container-id-3 a.estimator_doc_link:hover {\n",
       "  /* unfitted */\n",
       "  background-color: var(--sklearn-color-unfitted-level-3);\n",
       "  color: var(--sklearn-color-background);\n",
       "  text-decoration: none;\n",
       "}\n",
       "\n",
       "#sk-container-id-3 a.estimator_doc_link.fitted:hover {\n",
       "  /* fitted */\n",
       "  background-color: var(--sklearn-color-fitted-level-3);\n",
       "}\n",
       "</style><div id=\"sk-container-id-3\" class=\"sk-top-container\"><div class=\"sk-text-repr-fallback\"><pre>LGBMRegressor(random_state=42)</pre><b>In a Jupyter environment, please rerun this cell to show the HTML representation or trust the notebook. <br />On GitHub, the HTML representation is unable to render, please try loading this page with nbviewer.org.</b></div><div class=\"sk-container\" hidden><div class=\"sk-item\"><div class=\"sk-estimator fitted sk-toggleable\"><input class=\"sk-toggleable__control sk-hidden--visually\" id=\"sk-estimator-id-3\" type=\"checkbox\" checked><label for=\"sk-estimator-id-3\" class=\"sk-toggleable__label fitted sk-toggleable__label-arrow fitted\">&nbsp;LGBMRegressor<span class=\"sk-estimator-doc-link fitted\">i<span>Fitted</span></span></label><div class=\"sk-toggleable__content fitted\"><pre>LGBMRegressor(random_state=42)</pre></div> </div></div></div></div>"
      ],
      "text/plain": [
       "LGBMRegressor(random_state=42)"
      ]
     },
     "execution_count": 31,
     "metadata": {},
     "output_type": "execute_result"
    }
   ],
   "source": [
    "model = lgb.LGBMRegressor(random_state=42)\n",
    "model.fit(X_train, y_train)"
   ]
  },
  {
   "cell_type": "markdown",
   "id": "adf5f6e5",
   "metadata": {},
   "source": [
    "Predict & Inverse Log Transform"
   ]
  },
  {
   "cell_type": "code",
   "execution_count": 32,
   "id": "4f641782",
   "metadata": {},
   "outputs": [],
   "source": [
    "y_pred_log = model.predict(X_test)\n",
    "y_pred = np.expm1(y_pred_log) # back to original dollar scale\n",
    "y_actual = np.expm1(y_test)"
   ]
  },
  {
   "cell_type": "markdown",
   "id": "0e555e1b",
   "metadata": {},
   "source": [
    "Evaluate Model Performance"
   ]
  },
  {
   "cell_type": "code",
   "execution_count": 33,
   "id": "3079083e",
   "metadata": {},
   "outputs": [
    {
     "name": "stdout",
     "output_type": "stream",
     "text": [
      "MAE: 1161.4645394055433\n",
      "RMSE: 16267.007432697374\n"
     ]
    },
    {
     "name": "stderr",
     "output_type": "stream",
     "text": [
      "/opt/anaconda3/lib/python3.12/site-packages/sklearn/metrics/_regression.py:483: FutureWarning: 'squared' is deprecated in version 1.4 and will be removed in 1.6. To calculate the root mean squared error, use the function'root_mean_squared_error'.\n",
      "  warnings.warn(\n"
     ]
    }
   ],
   "source": [
    "mae = mean_absolute_error(y_actual, y_pred)\n",
    "rmse = mean_squared_error(y_actual, y_pred, squared=False)\n",
    "\n",
    "print(\"MAE:\", mae)\n",
    "print(\"RMSE:\", rmse)"
   ]
  },
  {
   "cell_type": "markdown",
   "id": "3a785eeb",
   "metadata": {},
   "source": [
    " Create Residuals"
   ]
  },
  {
   "cell_type": "code",
   "execution_count": 34,
   "id": "ed9b8750",
   "metadata": {},
   "outputs": [],
   "source": [
    "residuals_df = pd.DataFrame({\n",
    "    'actual': y_actual,\n",
    "    'predicted': y_pred\n",
    "})\n",
    "residuals_df['error'] = residuals_df['actual'] - residuals_df['predicted']\n",
    "residuals_df['abs_error'] = residuals_df['error'].abs()"
   ]
  },
  {
   "cell_type": "markdown",
   "id": "f28d12bb",
   "metadata": {},
   "source": [
    " Save Residual Sample"
   ]
  },
  {
   "cell_type": "code",
   "execution_count": 35,
   "id": "15ce2c93",
   "metadata": {},
   "outputs": [],
   "source": [
    "sample_residuals = residuals_df.sample(10000, random_state=42)\n",
    "sample_residuals.to_csv('../data/sample_residuals_lgbm_10k.csv')"
   ]
  },
  {
   "cell_type": "markdown",
   "id": "83d53bfd",
   "metadata": {},
   "source": [
    "****"
   ]
  },
  {
   "cell_type": "code",
   "execution_count": 36,
   "id": "3ce75b6c",
   "metadata": {},
   "outputs": [],
   "source": [
    "# Sample residuals\n",
    "residuals_df = pd.read_csv('../data/sample_residuals_lgbm_10k.csv', index_col=0)\n",
    "# Original feautres\n",
    "model_input_df = pd.read_csv('../data/model_input.csv')"
   ]
  },
  {
   "cell_type": "markdown",
   "id": "1433233a",
   "metadata": {},
   "source": [
    "Join on Index to Get All Original Features"
   ]
  },
  {
   "cell_type": "code",
   "execution_count": 37,
   "id": "7151f2c5",
   "metadata": {},
   "outputs": [],
   "source": [
    "# Join on index to get all original features for each residual\n",
    "merged_df = model_input_df.loc[residuals_df.index].copy()\n",
    "\n",
    "# Add predictions and errors back in\n",
    "merged_df[\"actual\"] = residuals_df[\"actual\"]\n",
    "merged_df[\"predicted\"] = residuals_df[\"predicted\"]\n",
    "merged_df[\"error\"] = residuals_df[\"error\"]\n",
    "merged_df[\"abs_error\"] = residuals_df[\"abs_error\"]"
   ]
  },
  {
   "cell_type": "code",
   "execution_count": 38,
   "id": "80f7cf27",
   "metadata": {},
   "outputs": [
    {
     "data": {
      "text/plain": [
       "diagnosis_encoded\n",
       "137    0.0998\n",
       "241    0.0478\n",
       "167    0.0251\n",
       "150    0.0229\n",
       "12     0.0228\n",
       "221    0.0214\n",
       "67     0.0207\n",
       "238    0.0206\n",
       "56     0.0183\n",
       "177    0.0177\n",
       "Name: proportion, dtype: float64"
      ]
     },
     "execution_count": 38,
     "metadata": {},
     "output_type": "execute_result"
    }
   ],
   "source": [
    "merged_df.describe()\n",
    "merged_df[\"abs_error\"].describe()\n",
    "merged_df[\"diagnosis_encoded\"].value_counts(normalize=True).head(10)"
   ]
  },
  {
   "cell_type": "markdown",
   "id": "5f324379",
   "metadata": {},
   "source": [
    "Analyze Top 1000 Worst Residuals"
   ]
  },
  {
   "cell_type": "code",
   "execution_count": 39,
   "id": "bed12f17",
   "metadata": {},
   "outputs": [
    {
     "data": {
      "text/plain": [
       "diagnosis_encoded\n",
       "241    0.113\n",
       "7      0.042\n",
       "8      0.039\n",
       "63     0.038\n",
       "69     0.034\n",
       "112    0.032\n",
       "137    0.029\n",
       "67     0.027\n",
       "249    0.027\n",
       "238    0.025\n",
       "Name: proportion, dtype: float64"
      ]
     },
     "execution_count": 39,
     "metadata": {},
     "output_type": "execute_result"
    }
   ],
   "source": [
    "top1000 = merged_df.sort_values(by='abs_error', ascending=False).head(1000)\n",
    "top1000[\"diagnosis_encoded\"].value_counts(normalize=True).head(10)"
   ]
  },
  {
   "cell_type": "markdown",
   "id": "dbae7c49",
   "metadata": {},
   "source": [
    "Top Diagnoses in Full Dataset"
   ]
  },
  {
   "cell_type": "code",
   "execution_count": 40,
   "id": "c83f8ae5",
   "metadata": {},
   "outputs": [
    {
     "data": {
      "text/plain": [
       "diagnosis_encoded\n",
       "137    0.095809\n",
       "241    0.047380\n",
       "167    0.028714\n",
       "150    0.023119\n",
       "12     0.021543\n",
       "67     0.021195\n",
       "221    0.019503\n",
       "177    0.018355\n",
       "238    0.017987\n",
       "56     0.017978\n",
       "Name: proportion, dtype: float64"
      ]
     },
     "execution_count": 40,
     "metadata": {},
     "output_type": "execute_result"
    }
   ],
   "source": [
    "model_input_df[\"diagnosis_encoded\"].value_counts(normalize=True).head(10)"
   ]
  },
  {
   "cell_type": "code",
   "execution_count": 41,
   "id": "8b694300",
   "metadata": {},
   "outputs": [],
   "source": [
    "# Load diagnosis map and merge the labels\n",
    "diagnosis_map = pd.read_csv('../data/diagnosis_mapping.csv')\n",
    "\n",
    "merged_df = merged_df.merge(diagnosis_map, on='diagnosis_encoded', how='left')\n",
    "model_input_df = model_input_df.merge(diagnosis_map, on='diagnosis_encoded', how='left')"
   ]
  },
  {
   "cell_type": "code",
   "execution_count": 42,
   "id": "76db3840",
   "metadata": {},
   "outputs": [
    {
     "data": {
      "text/plain": [
       "ccs_diagnosis_description\n",
       "Septicemia (except in labor)                                       0.113\n",
       "Acute cerebrovascular disease                                      0.042\n",
       "Acute myocardial infarction                                        0.039\n",
       "Complication of device; implant or graft                           0.038\n",
       "Coronary atherosclerosis and other heart disease                   0.034\n",
       "Heart valve disorders                                              0.032\n",
       "Liveborn                                                           0.029\n",
       "Congestive heart failure; nonhypertensive                          0.027\n",
       "Spondylosis; intervertebral disc disorders; other back problems    0.027\n",
       "Schizophrenia and other psychotic disorders                        0.025\n",
       "Name: proportion, dtype: float64"
      ]
     },
     "execution_count": 42,
     "metadata": {},
     "output_type": "execute_result"
    }
   ],
   "source": [
    "top_1000 = merged_df.sort_values(by='abs_error', ascending=False).head(1000)\n",
    "\n",
    "# Worst error diagnoses\n",
    "top_1000['ccs_diagnosis_description'].value_counts(normalize=True).head(10)"
   ]
  },
  {
   "cell_type": "markdown",
   "id": "06004716",
   "metadata": {},
   "source": [
    "**Septicemia:** Overrepresented in Worst Errors\n",
    "- It makes up 11.3% of the top 1000 worst predictions\n",
    "\n",
    "- But only **4.7%** of the total dataset\n",
    "- More than **2×** its expected frequency\n",
    "- This suggests the model is consistently underperforming for this diagnosis.\n",
    "\n",
    "**Liveborn:** Underrepresented in Worst Errors\n",
    "- Makes up only **2.9%** of top 1000 worst predictions\n",
    "\n",
    "- But nearly 9.6% of total dataset\n",
    "\n",
    "- 1/3 of its expected frequency"
   ]
  },
  {
   "cell_type": "code",
   "execution_count": 43,
   "id": "854283d0",
   "metadata": {},
   "outputs": [
    {
     "data": {
      "text/plain": [
       "ccs_diagnosis_description\n",
       "Liveborn                                                                          0.095809\n",
       "Septicemia (except in labor)                                                      0.047380\n",
       "Osteoarthritis                                                                    0.028714\n",
       "Mood disorders                                                                    0.023119\n",
       "Alcohol-related disorders                                                         0.021543\n",
       "Congestive heart failure; nonhypertensive                                         0.021195\n",
       "Pneumonia (except that caused by tuberculosis or sexually transmitted disease)    0.019503\n",
       "Other complications of birth; puerperium affecting management of mother           0.018355\n",
       "Schizophrenia and other psychotic disorders                                       0.017987\n",
       "Cardiac dysrhythmias                                                              0.017978\n",
       "Name: proportion, dtype: float64"
      ]
     },
     "execution_count": 43,
     "metadata": {},
     "output_type": "execute_result"
    }
   ],
   "source": [
    "# Full dataset\n",
    "model_input_df['ccs_diagnosis_description'].value_counts(normalize=True).head(10)"
   ]
  },
  {
   "cell_type": "markdown",
   "id": "f39d92f2",
   "metadata": {},
   "source": [
    "Generate and analyze SHAP values to explain why the model:\n",
    "- Overpredicts or underpredicts certain diagnoses (like Septicemia),\n",
    "- Performs well on others (like Liveborn).\n",
    "\n",
    "\n"
   ]
  },
  {
   "cell_type": "markdown",
   "id": "09e2e0f1",
   "metadata": {},
   "source": [
    "Load the SHAP explainer to analyze feature importance per prediction."
   ]
  },
  {
   "cell_type": "code",
   "execution_count": 44,
   "id": "3b179ad0",
   "metadata": {},
   "outputs": [],
   "source": [
    "# Create the SHAP explainer using model \n",
    "explainer = shap.Explainer(model)\n",
    "\n",
    "# Apply to the test set only (used for model evaluation)\n",
    "shap_values = explainer(X_test)"
   ]
  },
  {
   "cell_type": "markdown",
   "id": "72467134",
   "metadata": {},
   "source": [
    "Add Diagnosis Labels to X_test"
   ]
  },
  {
   "cell_type": "code",
   "execution_count": 45,
   "id": "a59a1281",
   "metadata": {},
   "outputs": [],
   "source": [
    "# Add diagnosis code to the test set for filtering \n",
    "X_test_with_diag = X_test.copy()\n",
    "X_test_with_diag['diagnosis_encoded'] = df.loc[X_test.index, 'diagnosis_encoded']"
   ]
  },
  {
   "cell_type": "markdown",
   "id": "878ca80a",
   "metadata": {},
   "source": [
    "Filter for Specific Cases"
   ]
  },
  {
   "cell_type": "code",
   "execution_count": 46,
   "id": "94898756",
   "metadata": {},
   "outputs": [],
   "source": [
    "# Septicemia (code 241)\n",
    "septicemia_cases = X_test_with_diag[X_test_with_diag['diagnosis_encoded'] == 241]\n",
    "\n",
    "# Liveborn (code 137)\n",
    "liveborn_cases = X_test_with_diag[X_test_with_diag['diagnosis_encoded'] == 137]"
   ]
  },
  {
   "cell_type": "markdown",
   "id": "26008b41",
   "metadata": {},
   "source": [
    "Plot SHAP Summary for Each Diagnosis"
   ]
  },
  {
   "cell_type": "code",
   "execution_count": null,
   "id": "46070f40",
   "metadata": {},
   "outputs": [
    {
     "ename": "ValueError",
     "evalue": "The truth value of an array with more than one element is ambiguous. Use a.any() or a.all()",
     "output_type": "error",
     "traceback": [
      "\u001b[0;31m---------------------------------------------------------------------------\u001b[0m",
      "\u001b[0;31mValueError\u001b[0m                                Traceback (most recent call last)",
      "Cell \u001b[0;32mIn[47], line 2\u001b[0m\n\u001b[1;32m      1\u001b[0m \u001b[38;5;66;03m# Septicemia cases — where error is high\u001b[39;00m\n\u001b[0;32m----> 2\u001b[0m shap\u001b[38;5;241m.\u001b[39mplots\u001b[38;5;241m.\u001b[39mbar(shap_values[septicemia_cases\u001b[38;5;241m.\u001b[39mindex], max_display\u001b[38;5;241m=\u001b[39m\u001b[38;5;241m10\u001b[39m)\n\u001b[1;32m      4\u001b[0m \u001b[38;5;66;03m# Liveborn cases — where error is low\u001b[39;00m\n\u001b[1;32m      5\u001b[0m shap\u001b[38;5;241m.\u001b[39mplots\u001b[38;5;241m.\u001b[39mbar(shap_values[liveborn_cases\u001b[38;5;241m.\u001b[39mindex], max_display\u001b[38;5;241m=\u001b[39m\u001b[38;5;241m10\u001b[39m)\n",
      "File \u001b[0;32m/opt/anaconda3/lib/python3.12/site-packages/shap/_explanation.py:417\u001b[0m, in \u001b[0;36mExplanation.__getitem__\u001b[0;34m(self, item)\u001b[0m\n\u001b[1;32m    415\u001b[0m \u001b[38;5;28;01mif\u001b[39;00m new_self \u001b[38;5;129;01mis\u001b[39;00m \u001b[38;5;28;01mNone\u001b[39;00m:\n\u001b[1;32m    416\u001b[0m     new_self \u001b[38;5;241m=\u001b[39m copy\u001b[38;5;241m.\u001b[39mcopy(\u001b[38;5;28mself\u001b[39m)\n\u001b[0;32m--> 417\u001b[0m new_self\u001b[38;5;241m.\u001b[39m_s \u001b[38;5;241m=\u001b[39m new_self\u001b[38;5;241m.\u001b[39m_s\u001b[38;5;241m.\u001b[39m\u001b[38;5;21m__getitem__\u001b[39m(item)\n\u001b[1;32m    418\u001b[0m new_self\u001b[38;5;241m.\u001b[39mop_history\u001b[38;5;241m.\u001b[39mappend(OpHistoryItem(name\u001b[38;5;241m=\u001b[39m\u001b[38;5;124m\"\u001b[39m\u001b[38;5;124m__getitem__\u001b[39m\u001b[38;5;124m\"\u001b[39m, args\u001b[38;5;241m=\u001b[39m(item,), prev_shape\u001b[38;5;241m=\u001b[39m\u001b[38;5;28mself\u001b[39m\u001b[38;5;241m.\u001b[39mshape))\n\u001b[1;32m    420\u001b[0m \u001b[38;5;28;01mreturn\u001b[39;00m new_self\n",
      "File \u001b[0;32m/opt/anaconda3/lib/python3.12/site-packages/slicer/slicer.py:103\u001b[0m, in \u001b[0;36mSlicer.__getitem__\u001b[0;34m(self, item)\u001b[0m\n\u001b[1;32m    102\u001b[0m \u001b[38;5;28;01mdef\u001b[39;00m \u001b[38;5;21m__getitem__\u001b[39m(\u001b[38;5;28mself\u001b[39m, item):\n\u001b[0;32m--> 103\u001b[0m     index_tup \u001b[38;5;241m=\u001b[39m unify_slice(item, \u001b[38;5;28mself\u001b[39m\u001b[38;5;241m.\u001b[39m_max_dim, \u001b[38;5;28mself\u001b[39m\u001b[38;5;241m.\u001b[39m_alias_lookup)\n\u001b[1;32m    104\u001b[0m     new_args \u001b[38;5;241m=\u001b[39m []\n\u001b[1;32m    105\u001b[0m     new_kwargs \u001b[38;5;241m=\u001b[39m {}\n",
      "File \u001b[0;32m/opt/anaconda3/lib/python3.12/site-packages/slicer/slicer_internal.py:85\u001b[0m, in \u001b[0;36munify_slice\u001b[0;34m(item, max_dim, alias_lookup)\u001b[0m\n\u001b[1;32m     83\u001b[0m item \u001b[38;5;241m=\u001b[39m _normalize_slice_key(item)\n\u001b[1;32m     84\u001b[0m index_tup \u001b[38;5;241m=\u001b[39m _normalize_subkey_types(item)\n\u001b[0;32m---> 85\u001b[0m index_tup \u001b[38;5;241m=\u001b[39m _handle_newaxis_ellipses(index_tup, max_dim)\n\u001b[1;32m     86\u001b[0m \u001b[38;5;28;01mif\u001b[39;00m alias_lookup:\n\u001b[1;32m     87\u001b[0m     index_tup \u001b[38;5;241m=\u001b[39m _handle_aliases(index_tup, alias_lookup)\n",
      "File \u001b[0;32m/opt/anaconda3/lib/python3.12/site-packages/slicer/slicer_internal.py:154\u001b[0m, in \u001b[0;36m_handle_newaxis_ellipses\u001b[0;34m(index_tup, max_dim)\u001b[0m\n\u001b[1;32m    143\u001b[0m \u001b[38;5;250m\u001b[39m\u001b[38;5;124;03m\"\"\" Expands newaxis and ellipses within a slice for simplification.\u001b[39;00m\n\u001b[1;32m    144\u001b[0m \u001b[38;5;124;03mThis code is mostly adapted from: https://github.com/clbarnes/h5py_like/blob/master/h5py_like/shape_utils.py#L111\u001b[39;00m\n\u001b[1;32m    145\u001b[0m \n\u001b[0;32m   (...)\u001b[0m\n\u001b[1;32m    151\u001b[0m \u001b[38;5;124;03m    Expanded slice as a tuple.\u001b[39;00m\n\u001b[1;32m    152\u001b[0m \u001b[38;5;124;03m\"\"\"\u001b[39;00m\n\u001b[1;32m    153\u001b[0m non_indexes \u001b[38;5;241m=\u001b[39m (\u001b[38;5;28;01mNone\u001b[39;00m, \u001b[38;5;28mEllipsis\u001b[39m)\n\u001b[0;32m--> 154\u001b[0m concrete_indices \u001b[38;5;241m=\u001b[39m \u001b[38;5;28msum\u001b[39m(idx \u001b[38;5;129;01mnot\u001b[39;00m \u001b[38;5;129;01min\u001b[39;00m non_indexes \u001b[38;5;28;01mfor\u001b[39;00m idx \u001b[38;5;129;01min\u001b[39;00m index_tup)\n\u001b[1;32m    155\u001b[0m index_list \u001b[38;5;241m=\u001b[39m []\n\u001b[1;32m    156\u001b[0m \u001b[38;5;66;03m# newaxis_at = []\u001b[39;00m\n",
      "File \u001b[0;32m/opt/anaconda3/lib/python3.12/site-packages/slicer/slicer_internal.py:154\u001b[0m, in \u001b[0;36m<genexpr>\u001b[0;34m(.0)\u001b[0m\n\u001b[1;32m    143\u001b[0m \u001b[38;5;250m\u001b[39m\u001b[38;5;124;03m\"\"\" Expands newaxis and ellipses within a slice for simplification.\u001b[39;00m\n\u001b[1;32m    144\u001b[0m \u001b[38;5;124;03mThis code is mostly adapted from: https://github.com/clbarnes/h5py_like/blob/master/h5py_like/shape_utils.py#L111\u001b[39;00m\n\u001b[1;32m    145\u001b[0m \n\u001b[0;32m   (...)\u001b[0m\n\u001b[1;32m    151\u001b[0m \u001b[38;5;124;03m    Expanded slice as a tuple.\u001b[39;00m\n\u001b[1;32m    152\u001b[0m \u001b[38;5;124;03m\"\"\"\u001b[39;00m\n\u001b[1;32m    153\u001b[0m non_indexes \u001b[38;5;241m=\u001b[39m (\u001b[38;5;28;01mNone\u001b[39;00m, \u001b[38;5;28mEllipsis\u001b[39m)\n\u001b[0;32m--> 154\u001b[0m concrete_indices \u001b[38;5;241m=\u001b[39m \u001b[38;5;28msum\u001b[39m(idx \u001b[38;5;129;01mnot\u001b[39;00m \u001b[38;5;129;01min\u001b[39;00m non_indexes \u001b[38;5;28;01mfor\u001b[39;00m idx \u001b[38;5;129;01min\u001b[39;00m index_tup)\n\u001b[1;32m    155\u001b[0m index_list \u001b[38;5;241m=\u001b[39m []\n\u001b[1;32m    156\u001b[0m \u001b[38;5;66;03m# newaxis_at = []\u001b[39;00m\n",
      "\u001b[0;31mValueError\u001b[0m: The truth value of an array with more than one element is ambiguous. Use a.any() or a.all()"
     ]
    }
   ],
   "source": [
    "# Septicemia cases — where error is high\n",
    "shap.plots.bar(shap_values[septicemia_cases.index], max_display=10)\n",
    "\n",
    "# Liveborn cases — where error is low\n",
    "shap.plots.bar(shap_values[liveborn_cases.index], max_display=10)"
   ]
  }
 ],
 "metadata": {
  "kernelspec": {
   "display_name": "base",
   "language": "python",
   "name": "python3"
  },
  "language_info": {
   "codemirror_mode": {
    "name": "ipython",
    "version": 3
   },
   "file_extension": ".py",
   "mimetype": "text/x-python",
   "name": "python",
   "nbconvert_exporter": "python",
   "pygments_lexer": "ipython3",
   "version": "3.12.4"
  }
 },
 "nbformat": 4,
 "nbformat_minor": 5
}
