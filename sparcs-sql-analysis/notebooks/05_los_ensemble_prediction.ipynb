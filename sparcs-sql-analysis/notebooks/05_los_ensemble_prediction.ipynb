{
 "cells": [
  {
   "cell_type": "code",
   "execution_count": null,
   "id": "074ad518",
   "metadata": {},
   "outputs": [],
   "source": [
    "import pandas as pd\n",
    "import numpy as np\n",
    "import joblib\n",
    "from sklearn.metrics import mean_absolute_error\n",
    "\n",
    "df = pd.read_csv('../data/model_input_with_interactions.csv')"
   ]
  },
  {
   "cell_type": "code",
   "execution_count": 5,
   "id": "f2b82e7f",
   "metadata": {},
   "outputs": [],
   "source": [
    "# Define feature columns\n",
    "feature_cols = [\n",
    "    'gender_encoded',\n",
    "    'age_group_encoded',\n",
    "    'severity_encoded',\n",
    "    'admission_encoded',\n",
    "    'payment_type_encoded',\n",
    "    'diagnosis_encoded',\n",
    "    'procedure_encoded',\n",
    "    'county_encoded',\n",
    "    'los'  \n",
    "]"
   ]
  },
  {
   "cell_type": "code",
   "execution_count": 2,
   "id": "329e89c2",
   "metadata": {},
   "outputs": [],
   "source": [
    "# Load saved models for each LOS group\n",
    "model_short = joblib.load('../models/model_short.pkl')\n",
    "model_moderate = joblib.load('../models/model_moderate.pkl')\n",
    "model_long = joblib.load('../models/model_long.pkl')\n",
    "model_extended = joblib.load('../models/model_extended.pkl')"
   ]
  },
  {
   "cell_type": "markdown",
   "id": "d4875fb8",
   "metadata": {},
   "source": [
    "## Define LOS Grouping Function\n",
    "\n",
    "This function assigns each patient to a LOS category to route them to the correct model."
   ]
  },
  {
   "cell_type": "code",
   "execution_count": 3,
   "id": "ef67b486",
   "metadata": {},
   "outputs": [],
   "source": [
    "def get_los_group(los):\n",
    "    if los <= 3:\n",
    "        return 'short'\n",
    "    elif los <= 14:\n",
    "        return 'moderate'\n",
    "    elif los <= 30:\n",
    "        return 'long'\n",
    "    else:\n",
    "        return 'extended'"
   ]
  },
  {
   "cell_type": "markdown",
   "id": "516e4ac8",
   "metadata": {},
   "source": [
    "## Ensemble Prediction Function\n",
    "\n",
    "This function uses the predicted LOS group to select the appropriate model and generate a charge prediction."
   ]
  },
  {
   "cell_type": "code",
   "execution_count": 4,
   "id": "8115fd79",
   "metadata": {},
   "outputs": [],
   "source": [
    "def ensemble_predict(df, feature_cols):\n",
    "    df = df.copy()\n",
    "\n",
    "    # Add LOS group label\n",
    "    df['los_group'] = df['los'].apply(get_los_group)\n",
    "\n",
    "    # Prepare output container\n",
    "    preds = []\n",
    "\n",
    "    # Loop through LOS groups and apply corresponding model\n",
    "    for group, model in {\n",
    "        'short': model_short,\n",
    "        'moderate': model_moderate,\n",
    "        'long': model_long,\n",
    "        'extended': model_extended\n",
    "    }.items():\n",
    "        group_df = df[df['los_group'] == group]\n",
    "        if not group_df.empty:\n",
    "            X = group_df[feature_cols]\n",
    "            y_pred_log = model.predict(X)\n",
    "            y_pred = np.expm1(y_pred_log)  # Inverse log-transform\n",
    "            preds.append(pd.Series(y_pred, index=group_df.index))\n",
    "\n",
    "    # Combine all predictions\n",
    "    df['ensemble_prediction'] = pd.concat(preds).sort_index()\n",
    "    return df"
   ]
  },
  {
   "cell_type": "markdown",
   "id": "782bb61f",
   "metadata": {},
   "source": [
    "## Evaluate Ensemble Model Performance\n",
    "\n",
    "We apply the ensemble prediction to the full dataset and compare predicted vs. actual total charges."
   ]
  },
  {
   "cell_type": "code",
   "execution_count": 6,
   "id": "8d387d20",
   "metadata": {},
   "outputs": [
    {
     "ename": "NameError",
     "evalue": "name 'df' is not defined",
     "output_type": "error",
     "traceback": [
      "\u001b[0;31m---------------------------------------------------------------------------\u001b[0m",
      "\u001b[0;31mNameError\u001b[0m                                 Traceback (most recent call last)",
      "Cell \u001b[0;32mIn[6], line 2\u001b[0m\n\u001b[1;32m      1\u001b[0m \u001b[38;5;66;03m# Apply the ensemble model\u001b[39;00m\n\u001b[0;32m----> 2\u001b[0m df_with_preds \u001b[38;5;241m=\u001b[39m ensemble_predict(df, feature_cols)\n\u001b[1;32m      4\u001b[0m \u001b[38;5;66;03m# Evaluate performance\u001b[39;00m\n\u001b[1;32m      5\u001b[0m y_true \u001b[38;5;241m=\u001b[39m df_with_preds[\u001b[38;5;124m'\u001b[39m\u001b[38;5;124mtotal_charges\u001b[39m\u001b[38;5;124m'\u001b[39m]\n",
      "\u001b[0;31mNameError\u001b[0m: name 'df' is not defined"
     ]
    }
   ],
   "source": [
    "# Apply the ensemble model\n",
    "df_with_preds = ensemble_predict(df, feature_cols)\n",
    "\n",
    "# Evaluate performance\n",
    "y_true = df_with_preds['total_charges']\n",
    "y_pred = df_with_preds['ensemble_prediction']\n",
    "mae_ensemble = mean_absolute_error(y_true, y_pred)\n",
    "\n",
    "print(f\"Ensemble MAE: ${mae_ensemble:,.2f}\")"
   ]
  }
 ],
 "metadata": {
  "kernelspec": {
   "display_name": "base",
   "language": "python",
   "name": "python3"
  },
  "language_info": {
   "codemirror_mode": {
    "name": "ipython",
    "version": 3
   },
   "file_extension": ".py",
   "mimetype": "text/x-python",
   "name": "python",
   "nbconvert_exporter": "python",
   "pygments_lexer": "ipython3",
   "version": "3.12.4"
  }
 },
 "nbformat": 4,
 "nbformat_minor": 5
}
