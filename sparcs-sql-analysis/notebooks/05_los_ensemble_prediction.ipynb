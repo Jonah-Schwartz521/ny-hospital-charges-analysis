{
 "cells": [
  {
   "cell_type": "code",
   "execution_count": 1,
   "id": "074ad518",
   "metadata": {},
   "outputs": [],
   "source": [
    "import pandas as pd\n",
    "import numpy as np\n",
    "import joblib\n",
    "from sklearn.metrics import mean_absolute_error"
   ]
  },
  {
   "cell_type": "code",
   "execution_count": 2,
   "id": "329e89c2",
   "metadata": {},
   "outputs": [],
   "source": [
    "# Load saved models for each LOS group\n",
    "model_short = joblib.load('../models/model_short.pkl')\n",
    "model_moderate = joblib.load('../models/model_moderate.pkl')\n",
    "model_long = joblib.load('../models/model_long.pkl')\n",
    "model_extended = joblib.load('../models/model_extended.pkl')"
   ]
  },
  {
   "cell_type": "markdown",
   "id": "d4875fb8",
   "metadata": {},
   "source": [
    "## Define LOS Grouping Function\n",
    "\n",
    "This function assigns each patient to a LOS category to route them to the correct model."
   ]
  },
  {
   "cell_type": "code",
   "execution_count": 3,
   "id": "ef67b486",
   "metadata": {},
   "outputs": [],
   "source": [
    "def get_los_group(los):\n",
    "    if los <= 3:\n",
    "        return 'short'\n",
    "    elif los <= 14:\n",
    "        return 'moderate'\n",
    "    elif los <= 30:\n",
    "        return 'long'\n",
    "    else:\n",
    "        return 'extended'"
   ]
  },
  {
   "cell_type": "markdown",
   "id": "516e4ac8",
   "metadata": {},
   "source": [
    "## Ensemble Prediction Function\n",
    "\n",
    "This function uses the predicted LOS group to select the appropriate model and generate a charge prediction."
   ]
  },
  {
   "cell_type": "code",
   "execution_count": 4,
   "id": "8115fd79",
   "metadata": {},
   "outputs": [],
   "source": [
    "def ensemble_predict(df, feature_cols):\n",
    "    df = df.copy()\n",
    "\n",
    "    # Add LOS group label\n",
    "    df['los_group'] = df['los'].apply(get_los_group)\n",
    "\n",
    "    # Prepare output container\n",
    "    preds = []\n",
    "\n",
    "    # Loop through LOS groups and apply corresponding model\n",
    "    for group, model in {\n",
    "        'short': model_short,\n",
    "        'moderate': model_moderate,\n",
    "        'long': model_long,\n",
    "        'extended': model_extended\n",
    "    }.items():\n",
    "        group_df = df[df['los_group'] == group]\n",
    "        if not group_df.empty:\n",
    "            X = group_df[feature_cols]\n",
    "            y_pred_log = model.predict(X)\n",
    "            y_pred = np.expm1(y_pred_log)  # Inverse log-transform\n",
    "            preds.append(pd.Series(y_pred, index=group_df.index))\n",
    "\n",
    "    # Combine all predictions\n",
    "    df['ensemble_prediction'] = pd.concat(preds).sort_index()\n",
    "    return df"
   ]
  }
 ],
 "metadata": {
  "kernelspec": {
   "display_name": "base",
   "language": "python",
   "name": "python3"
  },
  "language_info": {
   "codemirror_mode": {
    "name": "ipython",
    "version": 3
   },
   "file_extension": ".py",
   "mimetype": "text/x-python",
   "name": "python",
   "nbconvert_exporter": "python",
   "pygments_lexer": "ipython3",
   "version": "3.12.4"
  }
 },
 "nbformat": 4,
 "nbformat_minor": 5
}
