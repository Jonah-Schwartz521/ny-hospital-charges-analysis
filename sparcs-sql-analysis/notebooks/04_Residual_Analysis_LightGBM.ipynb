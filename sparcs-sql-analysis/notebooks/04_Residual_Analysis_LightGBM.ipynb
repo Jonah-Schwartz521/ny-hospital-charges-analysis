{
 "cells": [
  {
   "cell_type": "code",
   "execution_count": 4,
   "id": "fcc31127",
   "metadata": {},
   "outputs": [],
   "source": [
    "import pandas as pd \n",
    "\n",
    "# Sample residuals\n",
    "residuals_df = pd.read_csv('../data/sample_residuals_lgbm_10k.csv', index_col=0)\n",
    "# Original feautres\n",
    "model_input_df = pd.read_csv('../data/model_input.csv')"
   ]
  },
  {
   "cell_type": "markdown",
   "id": "5457b479",
   "metadata": {},
   "source": [
    "Join on Index to Get All Original Features"
   ]
  },
  {
   "cell_type": "code",
   "execution_count": null,
   "id": "9c93765c",
   "metadata": {},
   "outputs": [],
   "source": [
    "# Join on index to get all original features for each residual\n",
    "merged_df = model_input_df.loc[residuals_df.index].copy()\n",
    "\n",
    "# Add predictions and errors back in\n",
    "merged_df[\"actual\"] = residuals_df[\"actual\"]\n",
    "merged_df[\"predicted\"] = residuals_df[\"predicted\"]\n",
    "merged_df[\"error\"] = residuals_df[\"error\"]\n",
    "merged_df[\"abs_error\"] = residuals_df[\"abs_error\"]"
   ]
  }
 ],
 "metadata": {
  "kernelspec": {
   "display_name": "base",
   "language": "python",
   "name": "python3"
  },
  "language_info": {
   "codemirror_mode": {
    "name": "ipython",
    "version": 3
   },
   "file_extension": ".py",
   "mimetype": "text/x-python",
   "name": "python",
   "nbconvert_exporter": "python",
   "pygments_lexer": "ipython3",
   "version": "3.12.4"
  }
 },
 "nbformat": 4,
 "nbformat_minor": 5
}
